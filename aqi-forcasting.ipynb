{
 "cells": [
  {
   "cell_type": "code",
   "execution_count": 1,
   "metadata": {
    "_cell_guid": "b1076dfc-b9ad-4769-8c92-a6c4dae69d19",
    "_uuid": "8f2839f25d086af736a60e9eeb907d3b93b6e0e5"
   },
   "outputs": [
    {
     "name": "stdout",
     "output_type": "stream",
     "text": [
      "     S.No            From Date              To Date  PM2.5 (ug/m3)  \\\n",
      "0     972  30-Aug-2019 - 00:00  31-Aug-2019 - 00:00          15.33   \n",
      "1     973  31-Aug-2019 - 00:00  01-Sep-2019 - 00:00          14.77   \n",
      "2     974  01-Sep-2019 - 00:00  02-Sep-2019 - 00:00          22.06   \n",
      "3     975  02-Sep-2019 - 00:00  03-Sep-2019 - 00:00          10.32   \n",
      "4     976  03-Sep-2019 - 00:00  04-Sep-2019 - 00:00           8.43   \n",
      "..    ...                  ...                  ...            ...   \n",
      "573  1545  25-Mar-2021 - 00:00  26-Mar-2021 - 00:00          95.35   \n",
      "574  1546  26-Mar-2021 - 00:00  27-Mar-2021 - 00:00          80.78   \n",
      "575  1547  27-Mar-2021 - 00:00  28-Mar-2021 - 00:00          91.00   \n",
      "576  1548  28-Mar-2021 - 00:00  29-Mar-2021 - 00:00          75.03   \n",
      "577  1549  29-Mar-2021 - 00:00  30-Mar-2021 - 00:00          53.72   \n",
      "\n",
      "     Ozone (ug/m3)  SO2 (ug/m3)  PM10 (ug/m3)  NO2 (ug/m3)  CO (mg/m3)  \n",
      "0            24.46         1.83         26.51        23.17        0.37  \n",
      "1            24.88         2.60         29.29        19.09        0.33  \n",
      "2            22.00         2.23         42.89        25.08        0.48  \n",
      "3            19.01         1.91         23.00        23.79        0.42  \n",
      "4            22.00         2.89         15.31        22.70        0.39  \n",
      "..             ...          ...           ...          ...         ...  \n",
      "573          51.58        13.50        184.96        40.86        0.83  \n",
      "574          69.76        16.80        169.54        35.46        0.68  \n",
      "575          80.55        14.04        192.59        35.81        0.75  \n",
      "576          54.70        10.34        147.10        22.06        0.59  \n",
      "577          32.17        11.62        105.33        18.01        0.52  \n",
      "\n",
      "[578 rows x 9 columns]\n"
     ]
    },
    {
     "data": {
      "image/png": "[encoded data removed]",
      "text/plain": [
       "<Figure size 432x288 with 1 Axes>"
      ]
     },
     "metadata": {
      "needs_background": "light"
     },
     "output_type": "display_data"
    }
   ],
   "source": [
    "import numpy as np # linear algebra\n",
    "import pandas as pd\n",
    "import matplotlib.pyplot as plt\n",
    "import os\n",
    "\n",
    "#Function to calculate so2 individual pollutant index(si)\n",
    "def calculate_si(so2):\n",
    "    si=0\n",
    "    if (so2<=40):\n",
    "     si= so2*(50/40)\n",
    "    if (so2>40 and so2<=80):\n",
    "     si= 50+(so2-40)*(50/40)\n",
    "    if (so2>80 and so2<=380):\n",
    "     si= 100+(so2-80)*(100/300)\n",
    "    if (so2>380 and so2<=800):\n",
    "     si= 200+(so2-380)*(100/800)\n",
    "    if (so2>800 and so2<=1600):\n",
    "     si= 300+(so2-800)*(100/800)\n",
    "    if (so2>1600):\n",
    "     si= 400+(so2-1600)*(100/800)\n",
    "    return si\n",
    "    \n",
    "#Function to calculate no2 individual pollutant index(ni)\n",
    "def calculate_ni(no2):\n",
    "    ni=0\n",
    "    if(no2<=40):\n",
    "     ni= no2*50/40\n",
    "    elif(no2>40 and no2<=80):\n",
    "     ni= 50+(no2-14)*(50/40)\n",
    "    elif(no2>80 and no2<=180):\n",
    "     ni= 100+(no2-80)*(100/100)\n",
    "    elif(no2>180 and no2<=280):\n",
    "     ni= 200+(no2-180)*(100/100)\n",
    "    elif(no2>280 and no2<=400):\n",
    "     ni= 300+(no2-280)*(100/120)\n",
    "    else:\n",
    "     ni= 400+(no2-400)*(100/120)\n",
    "    return ni\n",
    "    \n",
    "def calculate_p25i(PM25):\n",
    "    p25=0\n",
    "    if(PM25<=12):\n",
    "        p25i=PM25*50/12.0\n",
    "    elif(PM25>12.1 and PM25<=35.4):\n",
    "        p25i=51+(PM25-12.1)*49/23.3\n",
    "    elif(PM25>35.5 and PM25<=55.4):\n",
    "        p25i=101+(PM25-35.5)*49/19.9\n",
    "    elif(PM25>55.5 and PM25<=150.4):\n",
    "        p25i=151+(PM25-55.5)*49/94.9\n",
    "    elif(PM25>150.5 and PM25<=250.4):\n",
    "        p25i=201+(PM25-150.5)*99/99.9\n",
    "    elif(PM25>250.5 and PM25<=350.4):\n",
    "        p25i=301+(PM25-250.5)*99/99.9\n",
    "    else:\n",
    "        p25i=401+(PM25-250.5)*99/149.9    \n",
    "    return p25i\n",
    "    \n",
    "def calculate_oi(o3):\n",
    "    oi=0\n",
    "    if(o3>54):\n",
    "        oi=o3*50/54\n",
    "    elif(o3>54 and o3<=70):\n",
    "        oi=55+o3*49/15    \n",
    "    elif(o3>70 and o3<=85):\n",
    "        oi=101+(o3-125)*49/14 \n",
    "    elif(o3>85 and o3<=105):\n",
    "        oi=151+(o3-165)*49/19\n",
    "    elif(o3>105 and o3<=200):\n",
    "        oi=(201+o3-205)*99/94\n",
    "    '''elif(o3>200 and o3<=504):  #error\n",
    "        oi=301+o3*99/99\n",
    "    else:\n",
    "        oi=401+o3*99/99'''\n",
    "    return oi\n",
    "    \n",
    "def calculate_p10i(PM10):\n",
    "    p10i=0\n",
    "    if(PM10<=54):\n",
    "        p10i=PM10*50/54\n",
    "    elif(PM10>54 and PM10<=154):\n",
    "        p10i=51+(PM10-55)*49/99\n",
    "    elif(PM10>154 and PM10<=254):\n",
    "        p10i=101+(PM10-155)*49/99\n",
    "    elif(PM10>254 and PM10<=354):\n",
    "        p10i=151+(PM10-255)*49/99\n",
    "    elif(PM10>354 and PM10<=424):\n",
    "        p10i=201+(PM10-355)*99/69\n",
    "    elif(PM10>424 and PM10<=504):\n",
    "        p10i=301+(PM10-425)*99/79\n",
    "    else:\n",
    "        p10i=401+(PM10-505)*99/99\n",
    "    return p10i\n",
    "    \n",
    "    \n",
    "def calculate_coi(co):\n",
    "    coi=0\n",
    "    if(co<=4.4):\n",
    "        coi=co+50/4.4\n",
    "    elif(co>4.4 and co<=9.4):\n",
    "        coi=51+co*49/4.9\n",
    "    elif(co>9.4 and co<=12.4):\n",
    "        coi=101+co*49/2.9\n",
    "    elif(co>12.4 and co<=15.4):\n",
    "        coi=151+co*49/2.9\n",
    "    elif(co>15.4 and co<=30.4):\n",
    "        coi=201+co*99/14.9\n",
    "    elif(co>30.4 and co<=40.4):\n",
    "        coi=301+co*99/9.9\n",
    "    else:\n",
    "        coi=401+co*99/9.9\n",
    "    return coi\n",
    "   \n",
    "#function to calculate the air quality index (AQI) of every data value\n",
    "#its is calculated as per indian govt standards\n",
    "def calculate_aqi(si,ni,p25i,p10i,oi,coi):\n",
    "    aqi=max(si,ni,p25i,p10i,oi,coi)    \n",
    "    return aqi \n",
    "    \n",
    "    \n",
    "data=pd.read_csv('/home/prnv/kol.csv')\n",
    "print(data)\n",
    "data['si']=data['SO2 (ug/m3)'].apply(calculate_si)\n",
    "data['ni']=data['NO2 (ug/m3)'].apply(calculate_ni)\n",
    "data['p25i']=data['PM2.5 (ug/m3)'].apply(calculate_p25i)\n",
    "data['oi']=data['Ozone (ug/m3)'].apply(calculate_oi)\n",
    "data['p10i']=data['PM10 (ug/m3)'].apply(calculate_p10i)\n",
    "data['coi']=data['CO (mg/m3)'].apply(calculate_coi)\n",
    "data['AQI']=data.apply(lambda x:calculate_aqi(x['si'],x['ni'],x['p25i'],x['p10i'],x['oi'],x['coi']),axis=1)\n",
    "df= data[['From Date','AQI']]\n",
    "plt.plot(df['From Date'],df['AQI'])\n",
    "plt.show()"
   ]
  },
  {
   "cell_type": "code",
   "execution_count": 2,
   "metadata": {},
   "outputs": [],
   "source": [
    "df1=df.reset_index()['AQI']"
   ]
  },
  {
   "cell_type": "code",
   "execution_count": 3,
   "metadata": {},
   "outputs": [
    {
     "data": {
      "text/plain": [
       "[<matplotlib.lines.Line2D at 0x7f5566c855e0>]"
      ]
     },
     "execution_count": 3,
     "metadata": {},
     "output_type": "execute_result"
    },
    {
     "data": {
      "image/png": "[encoded data removed]",
      "text/plain": [
       "<Figure size 432x288 with 1 Axes>"
      ]
     },
     "metadata": {
      "needs_background": "light"
     },
     "output_type": "display_data"
    }
   ],
   "source": [
    "plt.plot(df1)"
   ]
  },
  {
   "cell_type": "code",
   "execution_count": 4,
   "metadata": {},
   "outputs": [],
   "source": [
    "from sklearn.preprocessing import MinMaxScaler\n",
    "scaler=MinMaxScaler(feature_range=(0,1))\n",
    "df1=scaler.fit_transform(np.array(df1).reshape(-1,1))"
   ]
  },
  {
   "cell_type": "code",
   "execution_count": 5,
   "metadata": {},
   "outputs": [
    {
     "data": {
      "text/plain": [
       "(375, 203)"
      ]
     },
     "execution_count": 5,
     "metadata": {},
     "output_type": "execute_result"
    }
   ],
   "source": [
    "##splitting dataset into train and test split\n",
    "training_size=int(len(df1)*0.65)\n",
    "test_size=len(df1)-training_size\n",
    "train_data,test_data=df1[0:training_size,:],df1[training_size:len(df1),:1]\n",
    "training_size,test_size"
   ]
  },
  {
   "cell_type": "code",
   "execution_count": 6,
   "metadata": {},
   "outputs": [],
   "source": [
    "# convert an array of values into a dataset matrix\n",
    "def create_dataset(dataset, time_step=30):\n",
    "\tdataX, dataY = [], []\n",
    "\tfor i in range(len(dataset)-time_step-1):\n",
    "\t\ta = dataset[i:(i+time_step), 0]   ###i=0, 0,1,2,3----29 30 \n",
    "\t\tdataX.append(a)\n",
    "\t\tdataY.append(dataset[i + time_step, 0])\n",
    "\treturn np.array(dataX), np.array(dataY)"
   ]
  },
  {
   "cell_type": "code",
   "execution_count": 7,
   "metadata": {},
   "outputs": [],
   "source": [
    "# reshape into X=t,t+1,t+2,..t+29 and Y=t+30\n",
    "time_step = 30\n",
    "X_train, y_train = create_dataset(train_data, time_step)\n",
    "X_test, ytest = create_dataset(test_data, time_step)"
   ]
  },
  {
   "cell_type": "code",
   "execution_count": 8,
   "metadata": {},
   "outputs": [],
   "source": [
    "# reshape input to be [samples, time steps, features] which is required for LSTM\n",
    "X_train =X_train.reshape(X_train.shape[0],X_train.shape[1] , 1)\n",
    "X_test = X_test.reshape(X_test.shape[0],X_test.shape[1] , 1)"
   ]
  },
  {
   "cell_type": "code",
   "execution_count": 9,
   "metadata": {},
   "outputs": [],
   "source": [
    "### Create the Stacked LSTM model\n",
    "from tensorflow.keras.models import Sequential\n",
    "from tensorflow.keras.layers import Dense\n",
    "from tensorflow.keras.layers import LSTM"
   ]
  },
  {
   "cell_type": "code",
   "execution_count": 10,
   "metadata": {},
   "outputs": [],
   "source": [
    "model=Sequential()\n",
    "model.add(LSTM(50,return_sequences=True,input_shape=(30,1)))\n",
    "model.add(LSTM(50,return_sequences=True))\n",
    "model.add(LSTM(50))\n",
    "model.add(Dense(1))\n",
    "model.compile(loss='mean_squared_error',optimizer='adam')"
   ]
  },
  {
   "cell_type": "code",
   "execution_count": 12,
   "metadata": {},
   "outputs": [
    {
     "name": "stdout",
     "output_type": "stream",
     "text": [
      "Model: \"sequential\"\n",
      "_________________________________________________________________\n",
      "Layer (type)                 Output Shape              Param #   \n",
      "=================================================================\n",
      "lstm (LSTM)                  (None, 30, 50)            10400     \n",
      "_________________________________________________________________\n",
      "lstm_1 (LSTM)                (None, 30, 50)            20200     \n",
      "_________________________________________________________________\n",
      "lstm_2 (LSTM)                (None, 50)                20200     \n",
      "_________________________________________________________________\n",
      "dense (Dense)                (None, 1)                 51        \n",
      "=================================================================\n",
      "Total params: 50,851\n",
      "Trainable params: 50,851\n",
      "Non-trainable params: 0\n",
      "_________________________________________________________________\n"
     ]
    }
   ],
   "source": [
    "model.summary()"
   ]
  },
  {
   "cell_type": "code",
   "execution_count": 13,
   "metadata": {},
   "outputs": [
    {
     "name": "stdout",
     "output_type": "stream",
     "text": [
      "Epoch 1/100\n",
      "6/6 - 6s - loss: 0.1116 - val_loss: 0.0173\n",
      "Epoch 2/100\n",
      "6/6 - 0s - loss: 0.0298 - val_loss: 0.0262\n",
      "Epoch 3/100\n",
      "6/6 - 0s - loss: 0.0223 - val_loss: 0.0289\n",
      "Epoch 4/100\n",
      "6/6 - 0s - loss: 0.0156 - val_loss: 0.0138\n",
      "Epoch 5/100\n",
      "6/6 - 0s - loss: 0.0170 - val_loss: 0.0170\n",
      "Epoch 6/100\n",
      "6/6 - 0s - loss: 0.0148 - val_loss: 0.0185\n",
      "Epoch 7/100\n",
      "6/6 - 0s - loss: 0.0136 - val_loss: 0.0141\n",
      "Epoch 8/100\n",
      "6/6 - 0s - loss: 0.0132 - val_loss: 0.0158\n",
      "Epoch 9/100\n",
      "6/6 - 0s - loss: 0.0127 - val_loss: 0.0149\n",
      "Epoch 10/100\n",
      "6/6 - 0s - loss: 0.0126 - val_loss: 0.0151\n",
      "Epoch 11/100\n",
      "6/6 - 0s - loss: 0.0125 - val_loss: 0.0149\n",
      "Epoch 12/100\n",
      "6/6 - 0s - loss: 0.0123 - val_loss: 0.0145\n",
      "Epoch 13/100\n",
      "6/6 - 0s - loss: 0.0122 - val_loss: 0.0153\n",
      "Epoch 14/100\n",
      "6/6 - 0s - loss: 0.0123 - val_loss: 0.0141\n",
      "Epoch 15/100\n",
      "6/6 - 0s - loss: 0.0122 - val_loss: 0.0143\n",
      "Epoch 16/100\n",
      "6/6 - 0s - loss: 0.0119 - val_loss: 0.0142\n",
      "Epoch 17/100\n",
      "6/6 - 0s - loss: 0.0117 - val_loss: 0.0142\n",
      "Epoch 18/100\n",
      "6/6 - 0s - loss: 0.0116 - val_loss: 0.0139\n",
      "Epoch 19/100\n",
      "6/6 - 0s - loss: 0.0115 - val_loss: 0.0139\n",
      "Epoch 20/100\n",
      "6/6 - 0s - loss: 0.0114 - val_loss: 0.0142\n",
      "Epoch 21/100\n",
      "6/6 - 0s - loss: 0.0113 - val_loss: 0.0167\n",
      "Epoch 22/100\n",
      "6/6 - 0s - loss: 0.0123 - val_loss: 0.0145\n",
      "Epoch 23/100\n",
      "6/6 - 0s - loss: 0.0123 - val_loss: 0.0138\n",
      "Epoch 24/100\n",
      "6/6 - 0s - loss: 0.0121 - val_loss: 0.0197\n",
      "Epoch 25/100\n",
      "6/6 - 0s - loss: 0.0133 - val_loss: 0.0149\n",
      "Epoch 26/100\n",
      "6/6 - 0s - loss: 0.0123 - val_loss: 0.0206\n",
      "Epoch 27/100\n",
      "6/6 - 0s - loss: 0.0131 - val_loss: 0.0137\n",
      "Epoch 28/100\n",
      "6/6 - 0s - loss: 0.0116 - val_loss: 0.0157\n",
      "Epoch 29/100\n",
      "6/6 - 0s - loss: 0.0117 - val_loss: 0.0138\n",
      "Epoch 30/100\n",
      "6/6 - 0s - loss: 0.0117 - val_loss: 0.0160\n",
      "Epoch 31/100\n",
      "6/6 - 0s - loss: 0.0116 - val_loss: 0.0134\n",
      "Epoch 32/100\n",
      "6/6 - 0s - loss: 0.0112 - val_loss: 0.0144\n",
      "Epoch 33/100\n",
      "6/6 - 0s - loss: 0.0112 - val_loss: 0.0137\n",
      "Epoch 34/100\n",
      "6/6 - 0s - loss: 0.0111 - val_loss: 0.0135\n",
      "Epoch 35/100\n",
      "6/6 - 0s - loss: 0.0112 - val_loss: 0.0140\n",
      "Epoch 36/100\n",
      "6/6 - 0s - loss: 0.0110 - val_loss: 0.0135\n",
      "Epoch 37/100\n",
      "6/6 - 0s - loss: 0.0112 - val_loss: 0.0135\n",
      "Epoch 38/100\n",
      "6/6 - 0s - loss: 0.0111 - val_loss: 0.0146\n",
      "Epoch 39/100\n",
      "6/6 - 0s - loss: 0.0109 - val_loss: 0.0134\n",
      "Epoch 40/100\n",
      "6/6 - 0s - loss: 0.0113 - val_loss: 0.0134\n",
      "Epoch 41/100\n",
      "6/6 - 0s - loss: 0.0111 - val_loss: 0.0145\n",
      "Epoch 42/100\n",
      "6/6 - 0s - loss: 0.0117 - val_loss: 0.0139\n",
      "Epoch 43/100\n",
      "6/6 - 0s - loss: 0.0118 - val_loss: 0.0143\n",
      "Epoch 44/100\n",
      "6/6 - 0s - loss: 0.0110 - val_loss: 0.0135\n",
      "Epoch 45/100\n",
      "6/6 - 0s - loss: 0.0109 - val_loss: 0.0137\n",
      "Epoch 46/100\n",
      "6/6 - 0s - loss: 0.0108 - val_loss: 0.0133\n",
      "Epoch 47/100\n",
      "6/6 - 0s - loss: 0.0110 - val_loss: 0.0142\n",
      "Epoch 48/100\n",
      "6/6 - 0s - loss: 0.0108 - val_loss: 0.0133\n",
      "Epoch 49/100\n",
      "6/6 - 0s - loss: 0.0110 - val_loss: 0.0141\n",
      "Epoch 50/100\n",
      "6/6 - 0s - loss: 0.0112 - val_loss: 0.0142\n",
      "Epoch 51/100\n",
      "6/6 - 0s - loss: 0.0114 - val_loss: 0.0134\n",
      "Epoch 52/100\n",
      "6/6 - 0s - loss: 0.0114 - val_loss: 0.0178\n",
      "Epoch 53/100\n",
      "6/6 - 0s - loss: 0.0126 - val_loss: 0.0137\n",
      "Epoch 54/100\n",
      "6/6 - 0s - loss: 0.0110 - val_loss: 0.0164\n",
      "Epoch 55/100\n",
      "6/6 - 0s - loss: 0.0113 - val_loss: 0.0133\n",
      "Epoch 56/100\n",
      "6/6 - 0s - loss: 0.0110 - val_loss: 0.0148\n",
      "Epoch 57/100\n",
      "6/6 - 0s - loss: 0.0110 - val_loss: 0.0131\n",
      "Epoch 58/100\n",
      "6/6 - 0s - loss: 0.0110 - val_loss: 0.0137\n",
      "Epoch 59/100\n",
      "6/6 - 0s - loss: 0.0110 - val_loss: 0.0134\n",
      "Epoch 60/100\n",
      "6/6 - 0s - loss: 0.0112 - val_loss: 0.0133\n",
      "Epoch 61/100\n",
      "6/6 - 0s - loss: 0.0107 - val_loss: 0.0134\n",
      "Epoch 62/100\n",
      "6/6 - 0s - loss: 0.0107 - val_loss: 0.0132\n",
      "Epoch 63/100\n",
      "6/6 - 0s - loss: 0.0109 - val_loss: 0.0139\n",
      "Epoch 64/100\n",
      "6/6 - 0s - loss: 0.0107 - val_loss: 0.0132\n",
      "Epoch 65/100\n",
      "6/6 - 0s - loss: 0.0107 - val_loss: 0.0133\n",
      "Epoch 66/100\n",
      "6/6 - 0s - loss: 0.0109 - val_loss: 0.0133\n",
      "Epoch 67/100\n",
      "6/6 - 0s - loss: 0.0107 - val_loss: 0.0135\n",
      "Epoch 68/100\n",
      "6/6 - 0s - loss: 0.0106 - val_loss: 0.0137\n",
      "Epoch 69/100\n",
      "6/6 - 0s - loss: 0.0107 - val_loss: 0.0136\n",
      "Epoch 70/100\n",
      "6/6 - 0s - loss: 0.0107 - val_loss: 0.0132\n",
      "Epoch 71/100\n",
      "6/6 - 0s - loss: 0.0112 - val_loss: 0.0169\n",
      "Epoch 72/100\n",
      "6/6 - 0s - loss: 0.0120 - val_loss: 0.0135\n",
      "Epoch 73/100\n",
      "6/6 - 0s - loss: 0.0111 - val_loss: 0.0156\n",
      "Epoch 74/100\n",
      "6/6 - 0s - loss: 0.0113 - val_loss: 0.0130\n",
      "Epoch 75/100\n",
      "6/6 - 0s - loss: 0.0107 - val_loss: 0.0137\n",
      "Epoch 76/100\n",
      "6/6 - 0s - loss: 0.0106 - val_loss: 0.0129\n",
      "Epoch 77/100\n",
      "6/6 - 0s - loss: 0.0108 - val_loss: 0.0146\n",
      "Epoch 78/100\n",
      "6/6 - 0s - loss: 0.0109 - val_loss: 0.0130\n",
      "Epoch 79/100\n",
      "6/6 - 0s - loss: 0.0105 - val_loss: 0.0152\n",
      "Epoch 80/100\n",
      "6/6 - 0s - loss: 0.0111 - val_loss: 0.0130\n",
      "Epoch 81/100\n",
      "6/6 - 0s - loss: 0.0107 - val_loss: 0.0149\n",
      "Epoch 82/100\n",
      "6/6 - 0s - loss: 0.0108 - val_loss: 0.0129\n",
      "Epoch 83/100\n",
      "6/6 - 0s - loss: 0.0105 - val_loss: 0.0138\n",
      "Epoch 84/100\n",
      "6/6 - 0s - loss: 0.0105 - val_loss: 0.0131\n",
      "Epoch 85/100\n",
      "6/6 - 0s - loss: 0.0106 - val_loss: 0.0130\n",
      "Epoch 86/100\n",
      "6/6 - 0s - loss: 0.0106 - val_loss: 0.0147\n",
      "Epoch 87/100\n",
      "6/6 - 0s - loss: 0.0109 - val_loss: 0.0133\n",
      "Epoch 88/100\n",
      "6/6 - 0s - loss: 0.0115 - val_loss: 0.0167\n",
      "Epoch 89/100\n",
      "6/6 - 0s - loss: 0.0108 - val_loss: 0.0131\n",
      "Epoch 90/100\n",
      "6/6 - 0s - loss: 0.0105 - val_loss: 0.0156\n",
      "Epoch 91/100\n",
      "6/6 - 0s - loss: 0.0108 - val_loss: 0.0133\n",
      "Epoch 92/100\n",
      "6/6 - 0s - loss: 0.0113 - val_loss: 0.0138\n",
      "Epoch 93/100\n",
      "6/6 - 0s - loss: 0.0105 - val_loss: 0.0129\n",
      "Epoch 94/100\n",
      "6/6 - 0s - loss: 0.0105 - val_loss: 0.0133\n",
      "Epoch 95/100\n",
      "6/6 - 0s - loss: 0.0108 - val_loss: 0.0137\n",
      "Epoch 96/100\n",
      "6/6 - 0s - loss: 0.0107 - val_loss: 0.0128\n",
      "Epoch 97/100\n",
      "6/6 - 0s - loss: 0.0107 - val_loss: 0.0139\n",
      "Epoch 98/100\n",
      "6/6 - 0s - loss: 0.0112 - val_loss: 0.0128\n",
      "Epoch 99/100\n",
      "6/6 - 0s - loss: 0.0107 - val_loss: 0.0147\n",
      "Epoch 100/100\n",
      "6/6 - 0s - loss: 0.0106 - val_loss: 0.0128\n"
     ]
    },
    {
     "data": {
      "text/plain": [
       "<tensorflow.python.keras.callbacks.History at 0x7f5521da1bb0>"
      ]
     },
     "execution_count": 13,
     "metadata": {},
     "output_type": "execute_result"
    }
   ],
   "source": [
    "model.fit(X_train,y_train,validation_data=(X_test,ytest),epochs=100,batch_size=64,verbose=2)"
   ]
  },
  {
   "cell_type": "code",
   "execution_count": 14,
   "metadata": {},
   "outputs": [],
   "source": [
    "import tensorflow as tf"
   ]
  },
  {
   "cell_type": "code",
   "execution_count": 15,
   "metadata": {},
   "outputs": [],
   "source": [
    "### Lets Do the prediction and check performance metrics\n",
    "train_predict=model.predict(X_train)\n",
    "test_predict=model.predict(X_test)"
   ]
  },
  {
   "cell_type": "code",
   "execution_count": 16,
   "metadata": {},
   "outputs": [],
   "source": [
    "##Transformback to original form\n",
    "train_predict=scaler.inverse_transform(train_predict)\n",
    "test_predict=scaler.inverse_transform(test_predict)"
   ]
  },
  {
   "cell_type": "code",
   "execution_count": 17,
   "metadata": {},
   "outputs": [
    {
     "data": {
      "text/plain": [
       "128.91183909680566"
      ]
     },
     "execution_count": 17,
     "metadata": {},
     "output_type": "execute_result"
    }
   ],
   "source": [
    "import math\n",
    "from sklearn.metrics import mean_squared_error\n",
    "math.sqrt(mean_squared_error(y_train,train_predict))"
   ]
  },
  {
   "cell_type": "code",
   "execution_count": 18,
   "metadata": {},
   "outputs": [
    {
     "data": {
      "text/plain": [
       "168.02785420949493"
      ]
     },
     "execution_count": 18,
     "metadata": {},
     "output_type": "execute_result"
    }
   ],
   "source": [
    "### Test Data RMSE\n",
    "math.sqrt(mean_squared_error(ytest,test_predict))"
   ]
  },
  {
   "cell_type": "code",
   "execution_count": 19,
   "metadata": {},
   "outputs": [
    {
     "data": {
      "image/png": "[encoded data removed]",
      "text/plain": [
       "<Figure size 432x288 with 1 Axes>"
      ]
     },
     "metadata": {
      "needs_background": "light"
     },
     "output_type": "display_data"
    }
   ],
   "source": [
    "# shift train predictions for plotting\n",
    "look_back=30\n",
    "trainPredictPlot = np.empty_like(df1)\n",
    "trainPredictPlot[:, :] = np.nan\n",
    "trainPredictPlot[look_back:len(train_predict)+look_back, :] = train_predict\n",
    "# shift test predictions for plotting\n",
    "testPredictPlot = np.empty_like(df1)\n",
    "testPredictPlot[:, :] = np.nan\n",
    "testPredictPlot[len(train_predict)+(look_back*2)+1:len(df1)-1, :] = test_predict\n",
    "# plot baseline and predictions\n",
    "plt.plot(scaler.inverse_transform(df1))\n",
    "plt.plot(trainPredictPlot)\n",
    "plt.plot(testPredictPlot)\n",
    "plt.show()"
   ]
  },
  {
   "cell_type": "code",
   "execution_count": null,
   "metadata": {},
   "outputs": [],
   "source": []
  },
  {
   "cell_type": "code",
   "execution_count": 20,
   "metadata": {},
   "outputs": [
    {
     "data": {
      "text/plain": [
       "(1, 30)"
      ]
     },
     "execution_count": 20,
     "metadata": {},
     "output_type": "execute_result"
    }
   ],
   "source": [
    "x_input=test_data[len(test_data)-30:].reshape(1,-1)\n",
    "x_input.shape"
   ]
  },
  {
   "cell_type": "code",
   "execution_count": 21,
   "metadata": {},
   "outputs": [],
   "source": [
    "temp_input=list(x_input)\n",
    "temp_input=temp_input[0].tolist()"
   ]
  },
  {
   "cell_type": "code",
   "execution_count": 22,
   "metadata": {},
   "outputs": [
    {
     "name": "stdout",
     "output_type": "stream",
     "text": [
      "[0.6077683]\n",
      "31\n",
      "1 day input [0.50917726 0.54222047 0.50011302 0.57080968 0.5293661  0.5432786\n",
      " 0.55715192 0.4428307  0.27428138 0.19383292 0.26502343 0.31027569\n",
      " 0.49188978 0.50403774 0.53820348 0.54792264 0.58143022 0.5894642\n",
      " 0.61585876 0.67429128 0.63623764 0.60406253 0.60461119 0.57302393\n",
      " 0.6065707  0.57802067 0.59804684 0.5667535  0.50899037 0.6077683 ]\n",
      "1 day output [[0.60920614]]\n",
      "2 day input [0.54222047 0.50011302 0.57080968 0.5293661  0.5432786  0.55715192\n",
      " 0.4428307  0.27428138 0.19383292 0.26502343 0.31027569 0.49188978\n",
      " 0.50403774 0.53820348 0.54792264 0.58143022 0.5894642  0.61585876\n",
      " 0.67429128 0.63623764 0.60406253 0.60461119 0.57302393 0.6065707\n",
      " 0.57802067 0.59804684 0.5667535  0.50899037 0.6077683  0.60920614]\n",
      "2 day output [[0.610876]]\n",
      "3 day input [0.50011302 0.57080968 0.5293661  0.5432786  0.55715192 0.4428307\n",
      " 0.27428138 0.19383292 0.26502343 0.31027569 0.49188978 0.50403774\n",
      " 0.53820348 0.54792264 0.58143022 0.5894642  0.61585876 0.67429128\n",
      " 0.63623764 0.60406253 0.60461119 0.57302393 0.6065707  0.57802067\n",
      " 0.59804684 0.5667535  0.50899037 0.6077683  0.60920614 0.61087602]\n",
      "3 day output [[0.61318254]]\n",
      "4 day input [0.57080968 0.5293661  0.5432786  0.55715192 0.4428307  0.27428138\n",
      " 0.19383292 0.26502343 0.31027569 0.49188978 0.50403774 0.53820348\n",
      " 0.54792264 0.58143022 0.5894642  0.61585876 0.67429128 0.63623764\n",
      " 0.60406253 0.60461119 0.57302393 0.6065707  0.57802067 0.59804684\n",
      " 0.5667535  0.50899037 0.6077683  0.60920614 0.61087602 0.61318254]\n",
      "4 day output [[0.615484]]\n",
      "5 day input [0.5293661  0.5432786  0.55715192 0.4428307  0.27428138 0.19383292\n",
      " 0.26502343 0.31027569 0.49188978 0.50403774 0.53820348 0.54792264\n",
      " 0.58143022 0.5894642  0.61585876 0.67429128 0.63623764 0.60406253\n",
      " 0.60461119 0.57302393 0.6065707  0.57802067 0.59804684 0.5667535\n",
      " 0.50899037 0.6077683  0.60920614 0.61087602 0.61318254 0.615484  ]\n",
      "5 day output [[0.6184139]]\n",
      "6 day input [0.5432786  0.55715192 0.4428307  0.27428138 0.19383292 0.26502343\n",
      " 0.31027569 0.49188978 0.50403774 0.53820348 0.54792264 0.58143022\n",
      " 0.5894642  0.61585876 0.67429128 0.63623764 0.60406253 0.60461119\n",
      " 0.57302393 0.6065707  0.57802067 0.59804684 0.5667535  0.50899037\n",
      " 0.6077683  0.60920614 0.61087602 0.61318254 0.615484   0.61841393]\n",
      "6 day output [[0.6210898]]\n",
      "7 day input [0.55715192 0.4428307  0.27428138 0.19383292 0.26502343 0.31027569\n",
      " 0.49188978 0.50403774 0.53820348 0.54792264 0.58143022 0.5894642\n",
      " 0.61585876 0.67429128 0.63623764 0.60406253 0.60461119 0.57302393\n",
      " 0.6065707  0.57802067 0.59804684 0.5667535  0.50899037 0.6077683\n",
      " 0.60920614 0.61087602 0.61318254 0.615484   0.61841393 0.62108982]\n",
      "7 day output [[0.62382334]]\n",
      "8 day input [0.4428307  0.27428138 0.19383292 0.26502343 0.31027569 0.49188978\n",
      " 0.50403774 0.53820348 0.54792264 0.58143022 0.5894642  0.61585876\n",
      " 0.67429128 0.63623764 0.60406253 0.60461119 0.57302393 0.6065707\n",
      " 0.57802067 0.59804684 0.5667535  0.50899037 0.6077683  0.60920614\n",
      " 0.61087602 0.61318254 0.615484   0.61841393 0.62108982 0.62382334]\n",
      "8 day output [[0.62655616]]\n",
      "9 day input [0.27428138 0.19383292 0.26502343 0.31027569 0.49188978 0.50403774\n",
      " 0.53820348 0.54792264 0.58143022 0.5894642  0.61585876 0.67429128\n",
      " 0.63623764 0.60406253 0.60461119 0.57302393 0.6065707  0.57802067\n",
      " 0.59804684 0.5667535  0.50899037 0.6077683  0.60920614 0.61087602\n",
      " 0.61318254 0.615484   0.61841393 0.62108982 0.62382334 0.62655616]\n",
      "9 day output [[0.62848866]]\n",
      "10 day input [0.19383292 0.26502343 0.31027569 0.49188978 0.50403774 0.53820348\n",
      " 0.54792264 0.58143022 0.5894642  0.61585876 0.67429128 0.63623764\n",
      " 0.60406253 0.60461119 0.57302393 0.6065707  0.57802067 0.59804684\n",
      " 0.5667535  0.50899037 0.6077683  0.60920614 0.61087602 0.61318254\n",
      " 0.615484   0.61841393 0.62108982 0.62382334 0.62655616 0.62848866]\n",
      "10 day output [[0.6294277]]\n",
      "11 day input [0.26502343 0.31027569 0.49188978 0.50403774 0.53820348 0.54792264\n",
      " 0.58143022 0.5894642  0.61585876 0.67429128 0.63623764 0.60406253\n",
      " 0.60461119 0.57302393 0.6065707  0.57802067 0.59804684 0.5667535\n",
      " 0.50899037 0.6077683  0.60920614 0.61087602 0.61318254 0.615484\n",
      " 0.61841393 0.62108982 0.62382334 0.62655616 0.62848866 0.62942767]\n",
      "11 day output [[0.6300176]]\n",
      "12 day input [0.31027569 0.49188978 0.50403774 0.53820348 0.54792264 0.58143022\n",
      " 0.5894642  0.61585876 0.67429128 0.63623764 0.60406253 0.60461119\n",
      " 0.57302393 0.6065707  0.57802067 0.59804684 0.5667535  0.50899037\n",
      " 0.6077683  0.60920614 0.61087602 0.61318254 0.615484   0.61841393\n",
      " 0.62108982 0.62382334 0.62655616 0.62848866 0.62942767 0.63001758]\n",
      "12 day output [[0.6310425]]\n",
      "13 day input [0.49188978 0.50403774 0.53820348 0.54792264 0.58143022 0.5894642\n",
      " 0.61585876 0.67429128 0.63623764 0.60406253 0.60461119 0.57302393\n",
      " 0.6065707  0.57802067 0.59804684 0.5667535  0.50899037 0.6077683\n",
      " 0.60920614 0.61087602 0.61318254 0.615484   0.61841393 0.62108982\n",
      " 0.62382334 0.62655616 0.62848866 0.62942767 0.63001758 0.63104248]\n",
      "13 day output [[0.63226485]]\n",
      "14 day input [0.50403774 0.53820348 0.54792264 0.58143022 0.5894642  0.61585876\n",
      " 0.67429128 0.63623764 0.60406253 0.60461119 0.57302393 0.6065707\n",
      " 0.57802067 0.59804684 0.5667535  0.50899037 0.6077683  0.60920614\n",
      " 0.61087602 0.61318254 0.615484   0.61841393 0.62108982 0.62382334\n",
      " 0.62655616 0.62848866 0.62942767 0.63001758 0.63104248 0.63226485]\n",
      "14 day output [[0.63423777]]\n",
      "15 day input [0.53820348 0.54792264 0.58143022 0.5894642  0.61585876 0.67429128\n",
      " 0.63623764 0.60406253 0.60461119 0.57302393 0.6065707  0.57802067\n",
      " 0.59804684 0.5667535  0.50899037 0.6077683  0.60920614 0.61087602\n",
      " 0.61318254 0.615484   0.61841393 0.62108982 0.62382334 0.62655616\n",
      " 0.62848866 0.62942767 0.63001758 0.63104248 0.63226485 0.63423777]\n",
      "15 day output [[0.63614213]]\n",
      "16 day input [0.54792264 0.58143022 0.5894642  0.61585876 0.67429128 0.63623764\n",
      " 0.60406253 0.60461119 0.57302393 0.6065707  0.57802067 0.59804684\n",
      " 0.5667535  0.50899037 0.6077683  0.60920614 0.61087602 0.61318254\n",
      " 0.615484   0.61841393 0.62108982 0.62382334 0.62655616 0.62848866\n",
      " 0.62942767 0.63001758 0.63104248 0.63226485 0.63423777 0.63614213]\n",
      "16 day output [[0.6380971]]\n",
      "17 day input [0.58143022 0.5894642  0.61585876 0.67429128 0.63623764 0.60406253\n",
      " 0.60461119 0.57302393 0.6065707  0.57802067 0.59804684 0.5667535\n",
      " 0.50899037 0.6077683  0.60920614 0.61087602 0.61318254 0.615484\n",
      " 0.61841393 0.62108982 0.62382334 0.62655616 0.62848866 0.62942767\n",
      " 0.63001758 0.63104248 0.63226485 0.63423777 0.63614213 0.63809711]\n",
      "17 day output [[0.64001215]]\n",
      "18 day input [0.5894642  0.61585876 0.67429128 0.63623764 0.60406253 0.60461119\n",
      " 0.57302393 0.6065707  0.57802067 0.59804684 0.5667535  0.50899037\n",
      " 0.6077683  0.60920614 0.61087602 0.61318254 0.615484   0.61841393\n",
      " 0.62108982 0.62382334 0.62655616 0.62848866 0.62942767 0.63001758\n",
      " 0.63104248 0.63226485 0.63423777 0.63614213 0.63809711 0.64001215]\n",
      "18 day output [[0.64200497]]\n",
      "19 day input [0.61585876 0.67429128 0.63623764 0.60406253 0.60461119 0.57302393\n",
      " 0.6065707  0.57802067 0.59804684 0.5667535  0.50899037 0.6077683\n",
      " 0.60920614 0.61087602 0.61318254 0.615484   0.61841393 0.62108982\n",
      " 0.62382334 0.62655616 0.62848866 0.62942767 0.63001758 0.63104248\n",
      " 0.63226485 0.63423777 0.63614213 0.63809711 0.64001215 0.64200497]\n",
      "19 day output [[0.64397645]]\n",
      "20 day input [0.67429128 0.63623764 0.60406253 0.60461119 0.57302393 0.6065707\n",
      " 0.57802067 0.59804684 0.5667535  0.50899037 0.6077683  0.60920614\n",
      " 0.61087602 0.61318254 0.615484   0.61841393 0.62108982 0.62382334\n",
      " 0.62655616 0.62848866 0.62942767 0.63001758 0.63104248 0.63226485\n",
      " 0.63423777 0.63614213 0.63809711 0.64001215 0.64200497 0.64397645]\n",
      "20 day output [[0.6460136]]\n",
      "21 day input [0.63623764 0.60406253 0.60461119 0.57302393 0.6065707  0.57802067\n",
      " 0.59804684 0.5667535  0.50899037 0.6077683  0.60920614 0.61087602\n",
      " 0.61318254 0.615484   0.61841393 0.62108982 0.62382334 0.62655616\n",
      " 0.62848866 0.62942767 0.63001758 0.63104248 0.63226485 0.63423777\n",
      " 0.63614213 0.63809711 0.64001215 0.64200497 0.64397645 0.64601362]\n",
      "21 day output [[0.6482597]]\n",
      "22 day input [0.60406253 0.60461119 0.57302393 0.6065707  0.57802067 0.59804684\n",
      " 0.5667535  0.50899037 0.6077683  0.60920614 0.61087602 0.61318254\n",
      " 0.615484   0.61841393 0.62108982 0.62382334 0.62655616 0.62848866\n",
      " 0.62942767 0.63001758 0.63104248 0.63226485 0.63423777 0.63614213\n",
      " 0.63809711 0.64001215 0.64200497 0.64397645 0.64601362 0.6482597 ]\n"
     ]
    },
    {
     "name": "stdout",
     "output_type": "stream",
     "text": [
      "22 day output [[0.6503008]]\n",
      "23 day input [0.60461119 0.57302393 0.6065707  0.57802067 0.59804684 0.5667535\n",
      " 0.50899037 0.6077683  0.60920614 0.61087602 0.61318254 0.615484\n",
      " 0.61841393 0.62108982 0.62382334 0.62655616 0.62848866 0.62942767\n",
      " 0.63001758 0.63104248 0.63226485 0.63423777 0.63614213 0.63809711\n",
      " 0.64001215 0.64200497 0.64397645 0.64601362 0.6482597  0.6503008 ]\n",
      "23 day output [[0.6521661]]\n",
      "24 day input [0.57302393 0.6065707  0.57802067 0.59804684 0.5667535  0.50899037\n",
      " 0.6077683  0.60920614 0.61087602 0.61318254 0.615484   0.61841393\n",
      " 0.62108982 0.62382334 0.62655616 0.62848866 0.62942767 0.63001758\n",
      " 0.63104248 0.63226485 0.63423777 0.63614213 0.63809711 0.64001215\n",
      " 0.64200497 0.64397645 0.64601362 0.6482597  0.6503008  0.65216613]\n",
      "24 day output [[0.65399957]]\n",
      "25 day input [0.6065707  0.57802067 0.59804684 0.5667535  0.50899037 0.6077683\n",
      " 0.60920614 0.61087602 0.61318254 0.615484   0.61841393 0.62108982\n",
      " 0.62382334 0.62655616 0.62848866 0.62942767 0.63001758 0.63104248\n",
      " 0.63226485 0.63423777 0.63614213 0.63809711 0.64001215 0.64200497\n",
      " 0.64397645 0.64601362 0.6482597  0.6503008  0.65216613 0.65399957]\n",
      "25 day output [[0.6556616]]\n",
      "26 day input [0.57802067 0.59804684 0.5667535  0.50899037 0.6077683  0.60920614\n",
      " 0.61087602 0.61318254 0.615484   0.61841393 0.62108982 0.62382334\n",
      " 0.62655616 0.62848866 0.62942767 0.63001758 0.63104248 0.63226485\n",
      " 0.63423777 0.63614213 0.63809711 0.64001215 0.64200497 0.64397645\n",
      " 0.64601362 0.6482597  0.6503008  0.65216613 0.65399957 0.65566158]\n",
      "26 day output [[0.6574291]]\n",
      "27 day input [0.59804684 0.5667535  0.50899037 0.6077683  0.60920614 0.61087602\n",
      " 0.61318254 0.615484   0.61841393 0.62108982 0.62382334 0.62655616\n",
      " 0.62848866 0.62942767 0.63001758 0.63104248 0.63226485 0.63423777\n",
      " 0.63614213 0.63809711 0.64001215 0.64200497 0.64397645 0.64601362\n",
      " 0.6482597  0.6503008  0.65216613 0.65399957 0.65566158 0.6574291 ]\n",
      "27 day output [[0.6590349]]\n",
      "28 day input [0.5667535  0.50899037 0.6077683  0.60920614 0.61087602 0.61318254\n",
      " 0.615484   0.61841393 0.62108982 0.62382334 0.62655616 0.62848866\n",
      " 0.62942767 0.63001758 0.63104248 0.63226485 0.63423777 0.63614213\n",
      " 0.63809711 0.64001215 0.64200497 0.64397645 0.64601362 0.6482597\n",
      " 0.6503008  0.65216613 0.65399957 0.65566158 0.6574291  0.65903491]\n",
      "28 day output [[0.6606836]]\n",
      "29 day input [0.50899037 0.6077683  0.60920614 0.61087602 0.61318254 0.615484\n",
      " 0.61841393 0.62108982 0.62382334 0.62655616 0.62848866 0.62942767\n",
      " 0.63001758 0.63104248 0.63226485 0.63423777 0.63614213 0.63809711\n",
      " 0.64001215 0.64200497 0.64397645 0.64601362 0.6482597  0.6503008\n",
      " 0.65216613 0.65399957 0.65566158 0.6574291  0.65903491 0.66068357]\n",
      "29 day output [[0.66216207]]\n",
      "[[0.6077682971954346], [0.6092061400413513], [0.6108760237693787], [0.613182544708252], [0.6154839992523193], [0.6184139251708984], [0.6210898160934448], [0.623823344707489], [0.6265561580657959], [0.6284886598587036], [0.6294276714324951], [0.6300175786018372], [0.63104248046875], [0.6322648525238037], [0.6342377662658691], [0.6361421346664429], [0.6380971074104309], [0.6400121450424194], [0.6420049667358398], [0.6439764499664307], [0.646013617515564], [0.648259699344635], [0.6503008008003235], [0.6521661281585693], [0.6539995670318604], [0.6556615829467773], [0.6574290990829468], [0.6590349078178406], [0.6606835722923279], [0.6621620655059814]]\n"
     ]
    }
   ],
   "source": [
    "# demonstrate prediction for next 30 days\n",
    "from numpy import array\n",
    "\n",
    "lst_output=[]\n",
    "n_steps=30\n",
    "i=0\n",
    "while(i<30):\n",
    "    \n",
    "    if(len(temp_input)>30):\n",
    "        #print(temp_input)\n",
    "        x_input=np.array(temp_input[1:])\n",
    "        print(\"{} day input {}\".format(i,x_input))\n",
    "        x_input=x_input.reshape(1,-1)\n",
    "        x_input = x_input.reshape((1, n_steps, 1))\n",
    "        #print(x_input)\n",
    "        yhat = model.predict(x_input, verbose=0)\n",
    "        print(\"{} day output {}\".format(i,yhat))\n",
    "        temp_input.extend(yhat[0].tolist())\n",
    "        temp_input=temp_input[1:]\n",
    "        #print(temp_input)\n",
    "        lst_output.extend(yhat.tolist())\n",
    "        i=i+1\n",
    "    else:\n",
    "        x_input = x_input.reshape((1, n_steps,1))\n",
    "        yhat = model.predict(x_input, verbose=0)\n",
    "        print(yhat[0])\n",
    "        temp_input.extend(yhat[0].tolist())\n",
    "        print(len(temp_input))\n",
    "        lst_output.extend(yhat.tolist())\n",
    "        i=i+1\n",
    "    \n",
    "\n",
    "print(lst_output)"
   ]
  },
  {
   "cell_type": "code",
   "execution_count": 23,
   "metadata": {},
   "outputs": [],
   "source": [
    "day_new=np.arange(1,31)\n",
    "day_pred=np.arange(31,61)"
   ]
  },
  {
   "cell_type": "code",
   "execution_count": 24,
   "metadata": {},
   "outputs": [
    {
     "data": {
      "text/plain": [
       "578"
      ]
     },
     "execution_count": 24,
     "metadata": {},
     "output_type": "execute_result"
    }
   ],
   "source": [
    "len(df1)"
   ]
  },
  {
   "cell_type": "code",
   "execution_count": 25,
   "metadata": {},
   "outputs": [
    {
     "data": {
      "text/plain": [
       "[<matplotlib.lines.Line2D at 0x7f5508eb82b0>]"
      ]
     },
     "execution_count": 25,
     "metadata": {},
     "output_type": "execute_result"
    },
    {
     "data": {
      "image/png": "[encoded data removed]",
      "text/plain": [
       "<Figure size 432x288 with 1 Axes>"
      ]
     },
     "metadata": {
      "needs_background": "light"
     },
     "output_type": "display_data"
    }
   ],
   "source": [
    "plt.plot(day_new,scaler.inverse_transform(df1[548:]))\n",
    "plt.plot(day_pred,scaler.inverse_transform(lst_output))"
   ]
  },
  {
   "cell_type": "code",
   "execution_count": 26,
   "metadata": {},
   "outputs": [
    {
     "data": {
      "text/plain": [
       "[<matplotlib.lines.Line2D at 0x7f5508f028e0>]"
      ]
     },
     "execution_count": 26,
     "metadata": {},
     "output_type": "execute_result"
    },
    {
     "data": {
      "image/png": "[encoded data removed]",
      "text/plain": [
       "<Figure size 432x288 with 1 Axes>"
      ]
     },
     "metadata": {
      "needs_background": "light"
     },
     "output_type": "display_data"
    }
   ],
   "source": [
    "df3=df1.tolist()\n",
    "df3.extend(lst_output)\n",
    "plt.plot(df3[500:])"
   ]
  },
  {
   "cell_type": "code",
   "execution_count": 27,
   "metadata": {},
   "outputs": [],
   "source": [
    "df3=scaler.inverse_transform(df3).tolist()"
   ]
  },
  {
   "cell_type": "code",
   "execution_count": 28,
   "metadata": {},
   "outputs": [
    {
     "data": {
      "text/plain": [
       "[<matplotlib.lines.Line2D at 0x7f5508ed6f40>]"
      ]
     },
     "execution_count": 28,
     "metadata": {},
     "output_type": "execute_result"
    },
    {
     "data": {
      "image/png": "[encoded data removed]",
      "text/plain": [
       "<Figure size 432x288 with 1 Axes>"
      ]
     },
     "metadata": {
      "needs_background": "light"
     },
     "output_type": "display_data"
    }
   ],
   "source": [
    "plt.plot(df3)"
   ]
  },
  {
   "cell_type": "code",
   "execution_count": null,
   "metadata": {},
   "outputs": [],
   "source": []
  }
 ],
 "metadata": {
  "kernelspec": {
   "display_name": "Python 3",
   "language": "python",
   "name": "python3"
  },
  "language_info": {
   "codemirror_mode": {
    "name": "ipython",
    "version": 3
   },
   "file_extension": ".py",
   "mimetype": "text/x-python",
   "name": "python",
   "nbconvert_exporter": "python",
   "pygments_lexer": "ipython3",
   "version": "3.8.5"
  }
 },
 "nbformat": 4,
 "nbformat_minor": 4
}
