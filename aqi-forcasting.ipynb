{
 "cells": [
  {
   "cell_type": "code",
   "execution_count": 19,
   "metadata": {
    "_cell_guid": "b1076dfc-b9ad-4769-8c92-a6c4dae69d19",
    "_uuid": "8f2839f25d086af736a60e9eeb907d3b93b6e0e5"
   },
   "outputs": [
    {
     "name": "stdout",
     "output_type": "stream",
     "text": [
      "     S.No            From Date              To Date  PM2.5 (ug/m3)  \\\n",
      "0     972  30-Aug-2019 - 00:00  31-Aug-2019 - 00:00          15.33   \n",
      "1     973  31-Aug-2019 - 00:00  01-Sep-2019 - 00:00          14.77   \n",
      "2     974  01-Sep-2019 - 00:00  02-Sep-2019 - 00:00          22.06   \n",
      "3     975  02-Sep-2019 - 00:00  03-Sep-2019 - 00:00          10.32   \n",
      "4     976  03-Sep-2019 - 00:00  04-Sep-2019 - 00:00           8.43   \n",
      "..    ...                  ...                  ...            ...   \n",
      "573  1545  25-Mar-2021 - 00:00  26-Mar-2021 - 00:00          95.35   \n",
      "574  1546  26-Mar-2021 - 00:00  27-Mar-2021 - 00:00          80.78   \n",
      "575  1547  27-Mar-2021 - 00:00  28-Mar-2021 - 00:00          91.00   \n",
      "576  1548  28-Mar-2021 - 00:00  29-Mar-2021 - 00:00          75.03   \n",
      "577  1549  29-Mar-2021 - 00:00  30-Mar-2021 - 00:00          53.72   \n",
      "\n",
      "     Ozone (ug/m3)  SO2 (ug/m3)  PM10 (ug/m3)  NO2 (ug/m3)  CO (mg/m3)  \n",
      "0            24.46         1.83         26.51        23.17        0.37  \n",
      "1            24.88         2.60         29.29        19.09        0.33  \n",
      "2            22.00         2.23         42.89        25.08        0.48  \n",
      "3            19.01         1.91         23.00        23.79        0.42  \n",
      "4            22.00         2.89         15.31        22.70        0.39  \n",
      "..             ...          ...           ...          ...         ...  \n",
      "573          51.58        13.50        184.96        40.86        0.83  \n",
      "574          69.76        16.80        169.54        35.46        0.68  \n",
      "575          80.55        14.04        192.59        35.81        0.75  \n",
      "576          54.70        10.34        147.10        22.06        0.59  \n",
      "577          32.17        11.62        105.33        18.01        0.52  \n",
      "\n",
      "[578 rows x 9 columns]\n"
     ]
    },
    {
     "data": {
      "image/png": "[encoded data removed]",
      "text/plain": [
       "<Figure size 432x288 with 1 Axes>"
      ]
     },
     "metadata": {
      "needs_background": "light"
     },
     "output_type": "display_data"
    }
   ],
   "source": [
    "import numpy as np # linear algebra\n",
    "import pandas as pd\n",
    "import matplotlib.pyplot as plt\n",
    "import os\n",
    "\n",
    "#Function to calculate so2 individual pollutant index(si)\n",
    "def calculate_si(so2):\n",
    "    si=0\n",
    "    if (so2<=40):\n",
    "     si= so2*(50/40)\n",
    "    if (so2>40 and so2<=80):\n",
    "     si= 50+(so2-40)*(50/40)\n",
    "    if (so2>80 and so2<=380):\n",
    "     si= 100+(so2-80)*(100/300)\n",
    "    if (so2>380 and so2<=800):\n",
    "     si= 200+(so2-380)*(100/800)\n",
    "    if (so2>800 and so2<=1600):\n",
    "     si= 300+(so2-800)*(100/800)\n",
    "    if (so2>1600):\n",
    "     si= 400+(so2-1600)*(100/800)\n",
    "    return si\n",
    "    \n",
    "#Function to calculate no2 individual pollutant index(ni)\n",
    "def calculate_ni(no2):\n",
    "    ni=0\n",
    "    if(no2<=40):\n",
    "     ni= no2*50/40\n",
    "    elif(no2>40 and no2<=80):\n",
    "     ni= 50+(no2-14)*(50/40)\n",
    "    elif(no2>80 and no2<=180):\n",
    "     ni= 100+(no2-80)*(100/100)\n",
    "    elif(no2>180 and no2<=280):\n",
    "     ni= 200+(no2-180)*(100/100)\n",
    "    elif(no2>280 and no2<=400):\n",
    "     ni= 300+(no2-280)*(100/120)\n",
    "    else:\n",
    "     ni= 400+(no2-400)*(100/120)\n",
    "    return ni\n",
    "    \n",
    "def calculate_p25i(PM25):\n",
    "    p25=0\n",
    "    if(PM25<=12):\n",
    "        p25i=PM25*50/12.0\n",
    "    elif(PM25>12.1 and PM25<=35.4):\n",
    "        p25i=51+(PM25-12.1)*49/23.3\n",
    "    elif(PM25>35.5 and PM25<=55.4):\n",
    "        p25i=101+(PM25-35.5)*49/19.9\n",
    "    elif(PM25>55.5 and PM25<=150.4):\n",
    "        p25i=151+(PM25-55.5)*49/94.9\n",
    "    elif(PM25>150.5 and PM25<=250.4):\n",
    "        p25i=201+(PM25-150.5)*99/99.9\n",
    "    elif(PM25>250.5 and PM25<=350.4):\n",
    "        p25i=301+(PM25-250.5)*99/99.9\n",
    "    else:\n",
    "        p25i=401+(PM25-250.5)*99/149.9    \n",
    "    return p25i\n",
    "    \n",
    "def calculate_oi(o3):\n",
    "    oi=0\n",
    "    if(o3>54):\n",
    "        oi=o3*50/108\n",
    "    elif(o3>54 and o3<=70):\n",
    "        oi=55+(o3/2-55)*49/15    \n",
    "    elif(o3>70 and o3<=85):\n",
    "        oi=101+(o3/2-71)*49/14 \n",
    "    elif(o3>85 and o3<=105):\n",
    "        oi=151+(o3/2-86)*49/19\n",
    "    elif(o3>105 and o3<=200):\n",
    "        oi=201+(o3/2-105)*99/94\n",
    "    elif(o3>200 and o3<=504):  \n",
    "        oi=301+(o3/2-201)*99/99\n",
    "    else:\n",
    "        oi=401+(o3/2-505)*99/99\n",
    "    return oi\n",
    "    \n",
    "def calculate_p10i(PM10):\n",
    "    p10i=0\n",
    "    if(PM10<=54):\n",
    "        p10i=PM10*50/54\n",
    "    elif(PM10>54 and PM10<=154):\n",
    "        p10i=51+(PM10-55)*49/99\n",
    "    elif(PM10>154 and PM10<=254):\n",
    "        p10i=101+(PM10-155)*49/99\n",
    "    elif(PM10>254 and PM10<=354):\n",
    "        p10i=151+(PM10-255)*49/99\n",
    "    elif(PM10>354 and PM10<=424):\n",
    "        p10i=201+(PM10-355)*99/69\n",
    "    elif(PM10>424 and PM10<=504):\n",
    "        p10i=301+(PM10-425)*99/79\n",
    "    else:\n",
    "        p10i=401+(PM10-505)*99/99\n",
    "    return p10i\n",
    "    \n",
    "    \n",
    "def calculate_coi(co):\n",
    "    coi=0\n",
    "    if(co<=4.4):\n",
    "        coi=co/1.145*50/4.4\n",
    "    elif(co>4.4 and co<=9.4):\n",
    "        coi=51+(co/1.145-4.5)*49/4.9\n",
    "    elif(co>9.4 and co<=12.4):\n",
    "        coi=101+(co/1.145-9.5)*49/2.9\n",
    "    elif(co>12.4 and co<=15.4):\n",
    "        coi=151+(co/1.145-12.5)*49/2.9\n",
    "    elif(co>15.4 and co<=30.4):\n",
    "        coi=201+(co/1.145-15.5)*99/14.9\n",
    "    elif(co>30.4 and co<=40.4):\n",
    "        coi=301+(co/1.145-30.5)*99/9.9\n",
    "    else:\n",
    "        coi=401+(co/1.145-40.5)*99/9.9\n",
    "    return coi\n",
    "   \n",
    "#function to calculate the air quality index (AQI) of every data value\n",
    "#its is calculated as per indian govt standards\n",
    "def calculate_aqi(si,ni,p25i,p10i,oi,coi):\n",
    "    aqi=max(si,ni,p25i,p10i,oi,coi)    \n",
    "    return aqi \n",
    "    \n",
    "    \n",
    "data=pd.read_csv('/home/prnv/kol.csv')\n",
    "print(data)\n",
    "data['si']=data['SO2 (ug/m3)'].apply(calculate_si)\n",
    "data['ni']=data['NO2 (ug/m3)'].apply(calculate_ni)\n",
    "data['p25i']=data['PM2.5 (ug/m3)'].apply(calculate_p25i)\n",
    "data['oi']=data['Ozone (ug/m3)'].apply(calculate_oi)\n",
    "data['p10i']=data['PM10 (ug/m3)'].apply(calculate_p10i)\n",
    "data['coi']=data['CO (mg/m3)'].apply(calculate_coi)\n",
    "data['AQI']=data.apply(lambda x:calculate_aqi(x['si'],x['ni'],x['p25i'],x['p10i'],x['oi'],x['coi']),axis=1)\n",
    "df= data[['From Date','AQI']]\n",
    "plt.plot(df['From Date'],df['AQI'])\n",
    "plt.show()"
   ]
  },
  {
   "cell_type": "code",
   "execution_count": 20,
   "metadata": {},
   "outputs": [],
   "source": [
    "df1=df.reset_index()['AQI']"
   ]
  },
  {
   "cell_type": "code",
   "execution_count": 21,
   "metadata": {},
   "outputs": [
    {
     "data": {
      "text/plain": [
       "[<matplotlib.lines.Line2D at 0x7f2c2080aa00>]"
      ]
     },
     "execution_count": 21,
     "metadata": {},
     "output_type": "execute_result"
    },
    {
     "data": {
      "image/png": "[encoded data removed]",
      "text/plain": [
       "<Figure size 432x288 with 1 Axes>"
      ]
     },
     "metadata": {
      "needs_background": "light"
     },
     "output_type": "display_data"
    }
   ],
   "source": [
    "plt.plot(df1)"
   ]
  },
  {
   "cell_type": "code",
   "execution_count": 23,
   "metadata": {},
   "outputs": [],
   "source": [
    "from sklearn.preprocessing import MinMaxScaler\n",
    "scaler=MinMaxScaler(feature_range=(0,1))\n",
    "df1=scaler.fit_transform(np.array(df1).reshape(-1,1))"
   ]
  },
  {
   "cell_type": "code",
   "execution_count": 24,
   "metadata": {},
   "outputs": [
    {
     "data": {
      "text/plain": [
       "(375, 203)"
      ]
     },
     "execution_count": 24,
     "metadata": {},
     "output_type": "execute_result"
    }
   ],
   "source": [
    "##splitting dataset into train and test split\n",
    "training_size=int(len(df1)*0.65)\n",
    "test_size=len(df1)-training_size\n",
    "train_data,test_data=df1[0:training_size,:],df1[training_size:len(df1),:1]\n",
    "training_size,test_size"
   ]
  },
  {
   "cell_type": "code",
   "execution_count": 25,
   "metadata": {},
   "outputs": [],
   "source": [
    "# convert an array of values into a dataset matrix\n",
    "def create_dataset(dataset, time_step=30):\n",
    "\tdataX, dataY = [], []\n",
    "\tfor i in range(len(dataset)-time_step-1):\n",
    "\t\ta = dataset[i:(i+time_step), 0]   ###i=0, 0,1,2,3----29 30 \n",
    "\t\tdataX.append(a)\n",
    "\t\tdataY.append(dataset[i + time_step, 0])\n",
    "\treturn np.array(dataX), np.array(dataY)"
   ]
  },
  {
   "cell_type": "code",
   "execution_count": 26,
   "metadata": {},
   "outputs": [],
   "source": [
    "# reshape into X=t,t+1,t+2,..t+29 and Y=t+30\n",
    "time_step = 30\n",
    "X_train, y_train = create_dataset(train_data, time_step)\n",
    "X_test, ytest = create_dataset(test_data, time_step)"
   ]
  },
  {
   "cell_type": "code",
   "execution_count": 27,
   "metadata": {},
   "outputs": [],
   "source": [
    "# reshape input to be [samples, time steps, features] which is required for LSTM\n",
    "X_train =X_train.reshape(X_train.shape[0],X_train.shape[1] , 1)\n",
    "X_test = X_test.reshape(X_test.shape[0],X_test.shape[1] , 1)"
   ]
  },
  {
   "cell_type": "code",
   "execution_count": 28,
   "metadata": {},
   "outputs": [],
   "source": [
    "### Create the Stacked LSTM model\n",
    "from tensorflow.keras.models import Sequential\n",
    "from tensorflow.keras.layers import Dense\n",
    "from tensorflow.keras.layers import LSTM"
   ]
  },
  {
   "cell_type": "code",
   "execution_count": 29,
   "metadata": {},
   "outputs": [],
   "source": [
    "model=Sequential()\n",
    "model.add(LSTM(50,return_sequences=True,input_shape=(30,1)))\n",
    "model.add(LSTM(50,return_sequences=True))\n",
    "model.add(LSTM(50))\n",
    "model.add(Dense(1))\n",
    "model.compile(loss='mean_squared_error',optimizer='adam')"
   ]
  },
  {
   "cell_type": "code",
   "execution_count": 30,
   "metadata": {},
   "outputs": [
    {
     "name": "stdout",
     "output_type": "stream",
     "text": [
      "Model: \"sequential\"\n",
      "_________________________________________________________________\n",
      "Layer (type)                 Output Shape              Param #   \n",
      "=================================================================\n",
      "lstm (LSTM)                  (None, 30, 50)            10400     \n",
      "_________________________________________________________________\n",
      "lstm_1 (LSTM)                (None, 30, 50)            20200     \n",
      "_________________________________________________________________\n",
      "lstm_2 (LSTM)                (None, 50)                20200     \n",
      "_________________________________________________________________\n",
      "dense (Dense)                (None, 1)                 51        \n",
      "=================================================================\n",
      "Total params: 50,851\n",
      "Trainable params: 50,851\n",
      "Non-trainable params: 0\n",
      "_________________________________________________________________\n"
     ]
    }
   ],
   "source": [
    "model.summary()"
   ]
  },
  {
   "cell_type": "code",
   "execution_count": 31,
   "metadata": {},
   "outputs": [
    {
     "name": "stdout",
     "output_type": "stream",
     "text": [
      "Epoch 1/100\n",
      "6/6 - 7s - loss: 0.0936 - val_loss: 0.0376\n",
      "Epoch 2/100\n",
      "6/6 - 0s - loss: 0.0317 - val_loss: 0.0394\n",
      "Epoch 3/100\n",
      "6/6 - 0s - loss: 0.0280 - val_loss: 0.0350\n",
      "Epoch 4/100\n",
      "6/6 - 0s - loss: 0.0179 - val_loss: 0.0143\n",
      "Epoch 5/100\n",
      "6/6 - 0s - loss: 0.0179 - val_loss: 0.0168\n",
      "Epoch 6/100\n",
      "6/6 - 0s - loss: 0.0148 - val_loss: 0.0184\n",
      "Epoch 7/100\n",
      "6/6 - 0s - loss: 0.0130 - val_loss: 0.0138\n",
      "Epoch 8/100\n",
      "6/6 - 0s - loss: 0.0135 - val_loss: 0.0154\n",
      "Epoch 9/100\n",
      "6/6 - 0s - loss: 0.0129 - val_loss: 0.0152\n",
      "Epoch 10/100\n",
      "6/6 - 0s - loss: 0.0125 - val_loss: 0.0144\n",
      "Epoch 11/100\n",
      "6/6 - 0s - loss: 0.0126 - val_loss: 0.0146\n",
      "Epoch 12/100\n",
      "6/6 - 0s - loss: 0.0124 - val_loss: 0.0150\n",
      "Epoch 13/100\n",
      "6/6 - 0s - loss: 0.0123 - val_loss: 0.0142\n",
      "Epoch 14/100\n",
      "6/6 - 0s - loss: 0.0123 - val_loss: 0.0147\n",
      "Epoch 15/100\n",
      "6/6 - 1s - loss: 0.0122 - val_loss: 0.0144\n",
      "Epoch 16/100\n",
      "6/6 - 0s - loss: 0.0121 - val_loss: 0.0145\n",
      "Epoch 17/100\n",
      "6/6 - 0s - loss: 0.0121 - val_loss: 0.0147\n",
      "Epoch 18/100\n",
      "6/6 - 0s - loss: 0.0119 - val_loss: 0.0141\n",
      "Epoch 19/100\n",
      "6/6 - 0s - loss: 0.0118 - val_loss: 0.0140\n",
      "Epoch 20/100\n",
      "6/6 - 0s - loss: 0.0120 - val_loss: 0.0138\n",
      "Epoch 21/100\n",
      "6/6 - 0s - loss: 0.0116 - val_loss: 0.0139\n",
      "Epoch 22/100\n",
      "6/6 - 0s - loss: 0.0115 - val_loss: 0.0136\n",
      "Epoch 23/100\n",
      "6/6 - 0s - loss: 0.0115 - val_loss: 0.0136\n",
      "Epoch 24/100\n",
      "6/6 - 0s - loss: 0.0116 - val_loss: 0.0141\n",
      "Epoch 25/100\n",
      "6/6 - 0s - loss: 0.0113 - val_loss: 0.0134\n",
      "Epoch 26/100\n",
      "6/6 - 1s - loss: 0.0119 - val_loss: 0.0137\n",
      "Epoch 27/100\n",
      "6/6 - 0s - loss: 0.0114 - val_loss: 0.0155\n",
      "Epoch 28/100\n",
      "6/6 - 0s - loss: 0.0119 - val_loss: 0.0146\n",
      "Epoch 29/100\n",
      "6/6 - 0s - loss: 0.0130 - val_loss: 0.0144\n",
      "Epoch 30/100\n",
      "6/6 - 0s - loss: 0.0117 - val_loss: 0.0142\n",
      "Epoch 31/100\n",
      "6/6 - 0s - loss: 0.0113 - val_loss: 0.0144\n",
      "Epoch 32/100\n",
      "6/6 - 0s - loss: 0.0114 - val_loss: 0.0138\n",
      "Epoch 33/100\n",
      "6/6 - 0s - loss: 0.0118 - val_loss: 0.0154\n",
      "Epoch 34/100\n",
      "6/6 - 0s - loss: 0.0111 - val_loss: 0.0135\n",
      "Epoch 35/100\n",
      "6/6 - 0s - loss: 0.0115 - val_loss: 0.0154\n",
      "Epoch 36/100\n",
      "6/6 - 0s - loss: 0.0114 - val_loss: 0.0136\n",
      "Epoch 37/100\n",
      "6/6 - 0s - loss: 0.0110 - val_loss: 0.0143\n",
      "Epoch 38/100\n",
      "6/6 - 0s - loss: 0.0110 - val_loss: 0.0133\n",
      "Epoch 39/100\n",
      "6/6 - 0s - loss: 0.0111 - val_loss: 0.0170\n",
      "Epoch 40/100\n",
      "6/6 - 0s - loss: 0.0126 - val_loss: 0.0133\n",
      "Epoch 41/100\n",
      "6/6 - 0s - loss: 0.0123 - val_loss: 0.0133\n",
      "Epoch 42/100\n",
      "6/6 - 0s - loss: 0.0115 - val_loss: 0.0150\n",
      "Epoch 43/100\n",
      "6/6 - 0s - loss: 0.0113 - val_loss: 0.0133\n",
      "Epoch 44/100\n",
      "6/6 - 0s - loss: 0.0114 - val_loss: 0.0167\n",
      "Epoch 45/100\n",
      "6/6 - 0s - loss: 0.0117 - val_loss: 0.0132\n",
      "Epoch 46/100\n",
      "6/6 - 0s - loss: 0.0110 - val_loss: 0.0140\n",
      "Epoch 47/100\n",
      "6/6 - 0s - loss: 0.0110 - val_loss: 0.0132\n",
      "Epoch 48/100\n",
      "6/6 - 0s - loss: 0.0111 - val_loss: 0.0134\n",
      "Epoch 49/100\n",
      "6/6 - 1s - loss: 0.0109 - val_loss: 0.0136\n",
      "Epoch 50/100\n",
      "6/6 - 0s - loss: 0.0109 - val_loss: 0.0141\n",
      "Epoch 51/100\n",
      "6/6 - 0s - loss: 0.0110 - val_loss: 0.0132\n",
      "Epoch 52/100\n",
      "6/6 - 0s - loss: 0.0109 - val_loss: 0.0139\n",
      "Epoch 53/100\n",
      "6/6 - 0s - loss: 0.0110 - val_loss: 0.0134\n",
      "Epoch 54/100\n",
      "6/6 - 0s - loss: 0.0113 - val_loss: 0.0159\n",
      "Epoch 55/100\n",
      "6/6 - 0s - loss: 0.0111 - val_loss: 0.0132\n",
      "Epoch 56/100\n",
      "6/6 - 0s - loss: 0.0111 - val_loss: 0.0132\n",
      "Epoch 57/100\n",
      "6/6 - 0s - loss: 0.0110 - val_loss: 0.0144\n",
      "Epoch 58/100\n",
      "6/6 - 0s - loss: 0.0112 - val_loss: 0.0131\n",
      "Epoch 59/100\n",
      "6/6 - 0s - loss: 0.0111 - val_loss: 0.0136\n",
      "Epoch 60/100\n",
      "6/6 - 0s - loss: 0.0108 - val_loss: 0.0131\n",
      "Epoch 61/100\n",
      "6/6 - 0s - loss: 0.0108 - val_loss: 0.0147\n",
      "Epoch 62/100\n",
      "6/6 - 1s - loss: 0.0110 - val_loss: 0.0135\n",
      "Epoch 63/100\n",
      "6/6 - 0s - loss: 0.0111 - val_loss: 0.0151\n",
      "Epoch 64/100\n",
      "6/6 - 0s - loss: 0.0108 - val_loss: 0.0132\n",
      "Epoch 65/100\n",
      "6/6 - 0s - loss: 0.0113 - val_loss: 0.0138\n",
      "Epoch 66/100\n",
      "6/6 - 0s - loss: 0.0116 - val_loss: 0.0153\n",
      "Epoch 67/100\n",
      "6/6 - 1s - loss: 0.0112 - val_loss: 0.0131\n",
      "Epoch 68/100\n",
      "6/6 - 0s - loss: 0.0108 - val_loss: 0.0133\n",
      "Epoch 69/100\n",
      "6/6 - 0s - loss: 0.0108 - val_loss: 0.0134\n",
      "Epoch 70/100\n",
      "6/6 - 0s - loss: 0.0107 - val_loss: 0.0133\n",
      "Epoch 71/100\n",
      "6/6 - 0s - loss: 0.0107 - val_loss: 0.0132\n",
      "Epoch 72/100\n",
      "6/6 - 0s - loss: 0.0107 - val_loss: 0.0132\n",
      "Epoch 73/100\n",
      "6/6 - 0s - loss: 0.0107 - val_loss: 0.0131\n",
      "Epoch 74/100\n",
      "6/6 - 0s - loss: 0.0107 - val_loss: 0.0133\n",
      "Epoch 75/100\n",
      "6/6 - 0s - loss: 0.0107 - val_loss: 0.0138\n",
      "Epoch 76/100\n",
      "6/6 - 0s - loss: 0.0107 - val_loss: 0.0133\n",
      "Epoch 77/100\n",
      "6/6 - 0s - loss: 0.0107 - val_loss: 0.0131\n",
      "Epoch 78/100\n",
      "6/6 - 0s - loss: 0.0106 - val_loss: 0.0131\n",
      "Epoch 79/100\n",
      "6/6 - 0s - loss: 0.0106 - val_loss: 0.0130\n",
      "Epoch 80/100\n",
      "6/6 - 0s - loss: 0.0108 - val_loss: 0.0146\n",
      "Epoch 81/100\n",
      "6/6 - 0s - loss: 0.0112 - val_loss: 0.0131\n",
      "Epoch 82/100\n",
      "6/6 - 0s - loss: 0.0108 - val_loss: 0.0131\n",
      "Epoch 83/100\n",
      "6/6 - 0s - loss: 0.0107 - val_loss: 0.0144\n",
      "Epoch 84/100\n",
      "6/6 - 0s - loss: 0.0107 - val_loss: 0.0130\n",
      "Epoch 85/100\n",
      "6/6 - 0s - loss: 0.0110 - val_loss: 0.0151\n",
      "Epoch 86/100\n",
      "6/6 - 0s - loss: 0.0106 - val_loss: 0.0129\n",
      "Epoch 87/100\n",
      "6/6 - 0s - loss: 0.0107 - val_loss: 0.0136\n",
      "Epoch 88/100\n",
      "6/6 - 0s - loss: 0.0106 - val_loss: 0.0132\n",
      "Epoch 89/100\n",
      "6/6 - 1s - loss: 0.0105 - val_loss: 0.0134\n",
      "Epoch 90/100\n",
      "6/6 - 0s - loss: 0.0106 - val_loss: 0.0130\n",
      "Epoch 91/100\n",
      "6/6 - 0s - loss: 0.0108 - val_loss: 0.0131\n",
      "Epoch 92/100\n",
      "6/6 - 0s - loss: 0.0106 - val_loss: 0.0137\n",
      "Epoch 93/100\n",
      "6/6 - 0s - loss: 0.0105 - val_loss: 0.0131\n",
      "Epoch 94/100\n",
      "6/6 - 0s - loss: 0.0105 - val_loss: 0.0131\n",
      "Epoch 95/100\n",
      "6/6 - 0s - loss: 0.0105 - val_loss: 0.0143\n",
      "Epoch 96/100\n",
      "6/6 - 0s - loss: 0.0111 - val_loss: 0.0146\n",
      "Epoch 97/100\n",
      "6/6 - 0s - loss: 0.0108 - val_loss: 0.0129\n",
      "Epoch 98/100\n",
      "6/6 - 0s - loss: 0.0114 - val_loss: 0.0128\n",
      "Epoch 99/100\n",
      "6/6 - 0s - loss: 0.0108 - val_loss: 0.0154\n",
      "Epoch 100/100\n",
      "6/6 - 0s - loss: 0.0116 - val_loss: 0.0131\n"
     ]
    },
    {
     "data": {
      "text/plain": [
       "<tensorflow.python.keras.callbacks.History at 0x7f2bd37da9d0>"
      ]
     },
     "execution_count": 31,
     "metadata": {},
     "output_type": "execute_result"
    }
   ],
   "source": [
    "model.fit(X_train,y_train,validation_data=(X_test,ytest),epochs=100,batch_size=64,verbose=2)"
   ]
  },
  {
   "cell_type": "code",
   "execution_count": 32,
   "metadata": {},
   "outputs": [],
   "source": [
    "import tensorflow as tf"
   ]
  },
  {
   "cell_type": "code",
   "execution_count": 33,
   "metadata": {},
   "outputs": [],
   "source": [
    "### Lets Do the prediction and check performance metrics\n",
    "train_predict=model.predict(X_train)\n",
    "test_predict=model.predict(X_test)"
   ]
  },
  {
   "cell_type": "code",
   "execution_count": 34,
   "metadata": {},
   "outputs": [],
   "source": [
    "##Transformback to original form\n",
    "train_predict=scaler.inverse_transform(train_predict)\n",
    "test_predict=scaler.inverse_transform(test_predict)"
   ]
  },
  {
   "cell_type": "code",
   "execution_count": 35,
   "metadata": {},
   "outputs": [
    {
     "data": {
      "text/plain": [
       "131.15490168083545"
      ]
     },
     "execution_count": 35,
     "metadata": {},
     "output_type": "execute_result"
    }
   ],
   "source": [
    "import math\n",
    "from sklearn.metrics import mean_squared_error\n",
    "math.sqrt(mean_squared_error(y_train,train_predict))"
   ]
  },
  {
   "cell_type": "code",
   "execution_count": 36,
   "metadata": {},
   "outputs": [
    {
     "data": {
      "text/plain": [
       "171.02384965876053"
      ]
     },
     "execution_count": 36,
     "metadata": {},
     "output_type": "execute_result"
    }
   ],
   "source": [
    "### Test Data RMSE\n",
    "math.sqrt(mean_squared_error(ytest,test_predict))"
   ]
  },
  {
   "cell_type": "code",
   "execution_count": 37,
   "metadata": {},
   "outputs": [
    {
     "data": {
      "image/png": "[encoded data removed]",
      "text/plain": [
       "<Figure size 432x288 with 1 Axes>"
      ]
     },
     "metadata": {
      "needs_background": "light"
     },
     "output_type": "display_data"
    }
   ],
   "source": [
    "# shift train predictions for plotting\n",
    "look_back=30\n",
    "trainPredictPlot = np.empty_like(df1)\n",
    "trainPredictPlot[:, :] = np.nan\n",
    "trainPredictPlot[look_back:len(train_predict)+look_back, :] = train_predict\n",
    "# shift test predictions for plotting\n",
    "testPredictPlot = np.empty_like(df1)\n",
    "testPredictPlot[:, :] = np.nan\n",
    "testPredictPlot[len(train_predict)+(look_back*2)+1:len(df1)-1, :] = test_predict\n",
    "# plot baseline and predictions\n",
    "plt.plot(scaler.inverse_transform(df1))\n",
    "plt.plot(trainPredictPlot)\n",
    "plt.plot(testPredictPlot)\n",
    "plt.show()"
   ]
  },
  {
   "cell_type": "code",
   "execution_count": null,
   "metadata": {},
   "outputs": [],
   "source": []
  },
  {
   "cell_type": "code",
   "execution_count": 38,
   "metadata": {},
   "outputs": [
    {
     "data": {
      "text/plain": [
       "(1, 30)"
      ]
     },
     "execution_count": 38,
     "metadata": {},
     "output_type": "execute_result"
    }
   ],
   "source": [
    "x_input=test_data[len(test_data)-30:].reshape(1,-1)\n",
    "x_input.shape"
   ]
  },
  {
   "cell_type": "code",
   "execution_count": 39,
   "metadata": {},
   "outputs": [],
   "source": [
    "temp_input=list(x_input)\n",
    "temp_input=temp_input[0].tolist()"
   ]
  },
  {
   "cell_type": "code",
   "execution_count": 40,
   "metadata": {},
   "outputs": [
    {
     "name": "stdout",
     "output_type": "stream",
     "text": [
      "[0.6242551]\n",
      "31\n",
      "1 day input [0.51186702 0.54472915 0.50285244 0.57316169 0.53194522 0.54578148\n",
      " 0.55957877 0.44588404 0.27825839 0.19825079 0.26905117 0.31405544\n",
      " 0.49467427 0.50675566 0.54073417 0.55040006 0.58372402 0.59171397\n",
      " 0.61796389 0.67607619 0.63823109 0.6062323  0.60677796 0.5753638\n",
      " 0.60872673 0.58033316 0.60024958 0.56912774 0.51168115 0.62425512]\n",
      "1 day output [[0.62667704]]\n",
      "2 day input [0.54472915 0.50285244 0.57316169 0.53194522 0.54578148 0.55957877\n",
      " 0.44588404 0.27825839 0.19825079 0.26905117 0.31405544 0.49467427\n",
      " 0.50675566 0.54073417 0.55040006 0.58372402 0.59171397 0.61796389\n",
      " 0.67607619 0.63823109 0.6062323  0.60677796 0.5753638  0.60872673\n",
      " 0.58033316 0.60024958 0.56912774 0.51168115 0.62425512 0.62667704]\n",
      "2 day output [[0.6293095]]\n",
      "3 day input [0.50285244 0.57316169 0.53194522 0.54578148 0.55957877 0.44588404\n",
      " 0.27825839 0.19825079 0.26905117 0.31405544 0.49467427 0.50675566\n",
      " 0.54073417 0.55040006 0.58372402 0.59171397 0.61796389 0.67607619\n",
      " 0.63823109 0.6062323  0.60677796 0.5753638  0.60872673 0.58033316\n",
      " 0.60024958 0.56912774 0.51168115 0.62425512 0.62667704 0.62930948]\n",
      "3 day output [[0.6327394]]\n",
      "4 day input [0.57316169 0.53194522 0.54578148 0.55957877 0.44588404 0.27825839\n",
      " 0.19825079 0.26905117 0.31405544 0.49467427 0.50675566 0.54073417\n",
      " 0.55040006 0.58372402 0.59171397 0.61796389 0.67607619 0.63823109\n",
      " 0.6062323  0.60677796 0.5753638  0.60872673 0.58033316 0.60024958\n",
      " 0.56912774 0.51168115 0.62425512 0.62667704 0.62930948 0.63273942]\n",
      "4 day output [[0.63623756]]\n",
      "5 day input [0.53194522 0.54578148 0.55957877 0.44588404 0.27825839 0.19825079\n",
      " 0.26905117 0.31405544 0.49467427 0.50675566 0.54073417 0.55040006\n",
      " 0.58372402 0.59171397 0.61796389 0.67607619 0.63823109 0.6062323\n",
      " 0.60677796 0.5753638  0.60872673 0.58033316 0.60024958 0.56912774\n",
      " 0.51168115 0.62425512 0.62667704 0.62930948 0.63273942 0.63623756]\n",
      "5 day output [[0.64062715]]\n",
      "6 day input [0.54578148 0.55957877 0.44588404 0.27825839 0.19825079 0.26905117\n",
      " 0.31405544 0.49467427 0.50675566 0.54073417 0.55040006 0.58372402\n",
      " 0.59171397 0.61796389 0.67607619 0.63823109 0.6062323  0.60677796\n",
      " 0.5753638  0.60872673 0.58033316 0.60024958 0.56912774 0.51168115\n",
      " 0.62425512 0.62667704 0.62930948 0.63273942 0.63623756 0.64062715]\n",
      "6 day output [[0.6448263]]\n",
      "7 day input [0.55957877 0.44588404 0.27825839 0.19825079 0.26905117 0.31405544\n",
      " 0.49467427 0.50675566 0.54073417 0.55040006 0.58372402 0.59171397\n",
      " 0.61796389 0.67607619 0.63823109 0.6062323  0.60677796 0.5753638\n",
      " 0.60872673 0.58033316 0.60024958 0.56912774 0.51168115 0.62425512\n",
      " 0.62667704 0.62930948 0.63273942 0.63623756 0.64062715 0.64482629]\n",
      "7 day output [[0.6492232]]\n",
      "8 day input [0.44588404 0.27825839 0.19825079 0.26905117 0.31405544 0.49467427\n",
      " 0.50675566 0.54073417 0.55040006 0.58372402 0.59171397 0.61796389\n",
      " 0.67607619 0.63823109 0.6062323  0.60677796 0.5753638  0.60872673\n",
      " 0.58033316 0.60024958 0.56912774 0.51168115 0.62425512 0.62667704\n",
      " 0.62930948 0.63273942 0.63623756 0.64062715 0.64482629 0.64922321]\n",
      "8 day output [[0.653741]]\n",
      "9 day input [0.27825839 0.19825079 0.26905117 0.31405544 0.49467427 0.50675566\n",
      " 0.54073417 0.55040006 0.58372402 0.59171397 0.61796389 0.67607619\n",
      " 0.63823109 0.6062323  0.60677796 0.5753638  0.60872673 0.58033316\n",
      " 0.60024958 0.56912774 0.51168115 0.62425512 0.62667704 0.62930948\n",
      " 0.63273942 0.63623756 0.64062715 0.64482629 0.64922321 0.653741  ]\n",
      "9 day output [[0.6572948]]\n",
      "10 day input [0.19825079 0.26905117 0.31405544 0.49467427 0.50675566 0.54073417\n",
      " 0.55040006 0.58372402 0.59171397 0.61796389 0.67607619 0.63823109\n",
      " 0.6062323  0.60677796 0.5753638  0.60872673 0.58033316 0.60024958\n",
      " 0.56912774 0.51168115 0.62425512 0.62667704 0.62930948 0.63273942\n",
      " 0.63623756 0.64062715 0.64482629 0.64922321 0.653741   0.65729481]\n",
      "10 day output [[0.6595441]]\n",
      "11 day input [0.26905117 0.31405544 0.49467427 0.50675566 0.54073417 0.55040006\n",
      " 0.58372402 0.59171397 0.61796389 0.67607619 0.63823109 0.6062323\n",
      " 0.60677796 0.5753638  0.60872673 0.58033316 0.60024958 0.56912774\n",
      " 0.51168115 0.62425512 0.62667704 0.62930948 0.63273942 0.63623756\n",
      " 0.64062715 0.64482629 0.64922321 0.653741   0.65729481 0.65954411]\n",
      "11 day output [[0.6613004]]\n",
      "12 day input [0.31405544 0.49467427 0.50675566 0.54073417 0.55040006 0.58372402\n",
      " 0.59171397 0.61796389 0.67607619 0.63823109 0.6062323  0.60677796\n",
      " 0.5753638  0.60872673 0.58033316 0.60024958 0.56912774 0.51168115\n",
      " 0.62425512 0.62667704 0.62930948 0.63273942 0.63623756 0.64062715\n",
      " 0.64482629 0.64922321 0.653741   0.65729481 0.65954411 0.66130042]\n",
      "12 day output [[0.6636531]]\n",
      "13 day input [0.49467427 0.50675566 0.54073417 0.55040006 0.58372402 0.59171397\n",
      " 0.61796389 0.67607619 0.63823109 0.6062323  0.60677796 0.5753638\n",
      " 0.60872673 0.58033316 0.60024958 0.56912774 0.51168115 0.62425512\n",
      " 0.62667704 0.62930948 0.63273942 0.63623756 0.64062715 0.64482629\n",
      " 0.64922321 0.653741   0.65729481 0.65954411 0.66130042 0.66365308]\n",
      "13 day output [[0.66628945]]\n",
      "14 day input [0.50675566 0.54073417 0.55040006 0.58372402 0.59171397 0.61796389\n",
      " 0.67607619 0.63823109 0.6062323  0.60677796 0.5753638  0.60872673\n",
      " 0.58033316 0.60024958 0.56912774 0.51168115 0.62425512 0.62667704\n",
      " 0.62930948 0.63273942 0.63623756 0.64062715 0.64482629 0.64922321\n",
      " 0.653741   0.65729481 0.65954411 0.66130042 0.66365308 0.66628945]\n",
      "14 day output [[0.67003274]]\n",
      "15 day input [0.54073417 0.55040006 0.58372402 0.59171397 0.61796389 0.67607619\n",
      " 0.63823109 0.6062323  0.60677796 0.5753638  0.60872673 0.58033316\n",
      " 0.60024958 0.56912774 0.51168115 0.62425512 0.62667704 0.62930948\n",
      " 0.63273942 0.63623756 0.64062715 0.64482629 0.64922321 0.653741\n",
      " 0.65729481 0.65954411 0.66130042 0.66365308 0.66628945 0.67003274]\n",
      "15 day output [[0.67367846]]\n",
      "16 day input [0.55040006 0.58372402 0.59171397 0.61796389 0.67607619 0.63823109\n",
      " 0.6062323  0.60677796 0.5753638  0.60872673 0.58033316 0.60024958\n",
      " 0.56912774 0.51168115 0.62425512 0.62667704 0.62930948 0.63273942\n",
      " 0.63623756 0.64062715 0.64482629 0.64922321 0.653741   0.65729481\n",
      " 0.65954411 0.66130042 0.66365308 0.66628945 0.67003274 0.67367846]\n",
      "16 day output [[0.6773925]]\n",
      "17 day input [0.58372402 0.59171397 0.61796389 0.67607619 0.63823109 0.6062323\n",
      " 0.60677796 0.5753638  0.60872673 0.58033316 0.60024958 0.56912774\n",
      " 0.51168115 0.62425512 0.62667704 0.62930948 0.63273942 0.63623756\n",
      " 0.64062715 0.64482629 0.64922321 0.653741   0.65729481 0.65954411\n",
      " 0.66130042 0.66365308 0.66628945 0.67003274 0.67367846 0.67739248]\n",
      "17 day output [[0.6810329]]\n",
      "18 day input [0.59171397 0.61796389 0.67607619 0.63823109 0.6062323  0.60677796\n",
      " 0.5753638  0.60872673 0.58033316 0.60024958 0.56912774 0.51168115\n",
      " 0.62425512 0.62667704 0.62930948 0.63273942 0.63623756 0.64062715\n",
      " 0.64482629 0.64922321 0.653741   0.65729481 0.65954411 0.66130042\n",
      " 0.66365308 0.66628945 0.67003274 0.67367846 0.67739248 0.6810329 ]\n",
      "18 day output [[0.6847715]]\n",
      "19 day input [0.61796389 0.67607619 0.63823109 0.6062323  0.60677796 0.5753638\n",
      " 0.60872673 0.58033316 0.60024958 0.56912774 0.51168115 0.62425512\n",
      " 0.62667704 0.62930948 0.63273942 0.63623756 0.64062715 0.64482629\n",
      " 0.64922321 0.653741   0.65729481 0.65954411 0.66130042 0.66365308\n",
      " 0.66628945 0.67003274 0.67367846 0.67739248 0.6810329  0.68477148]\n",
      "19 day output [[0.68845683]]\n",
      "20 day input [0.67607619 0.63823109 0.6062323  0.60677796 0.5753638  0.60872673\n",
      " 0.58033316 0.60024958 0.56912774 0.51168115 0.62425512 0.62667704\n",
      " 0.62930948 0.63273942 0.63623756 0.64062715 0.64482629 0.64922321\n",
      " 0.653741   0.65729481 0.65954411 0.66130042 0.66365308 0.66628945\n",
      " 0.67003274 0.67367846 0.67739248 0.6810329  0.68477148 0.68845683]\n",
      "20 day output [[0.69221914]]\n",
      "21 day input [0.63823109 0.6062323  0.60677796 0.5753638  0.60872673 0.58033316\n",
      " 0.60024958 0.56912774 0.51168115 0.62425512 0.62667704 0.62930948\n",
      " 0.63273942 0.63623756 0.64062715 0.64482629 0.64922321 0.653741\n",
      " 0.65729481 0.65954411 0.66130042 0.66365308 0.66628945 0.67003274\n",
      " 0.67367846 0.67739248 0.6810329  0.68477148 0.68845683 0.69221914]\n",
      "21 day output [[0.69626695]]\n",
      "22 day input [0.6062323  0.60677796 0.5753638  0.60872673 0.58033316 0.60024958\n",
      " 0.56912774 0.51168115 0.62425512 0.62667704 0.62930948 0.63273942\n",
      " 0.63623756 0.64062715 0.64482629 0.64922321 0.653741   0.65729481\n",
      " 0.65954411 0.66130042 0.66365308 0.66628945 0.67003274 0.67367846\n",
      " 0.67739248 0.6810329  0.68477148 0.68845683 0.69221914 0.69626695]\n",
      "22 day output [[0.69998986]]\n",
      "23 day input [0.60677796 0.5753638  0.60872673 0.58033316 0.60024958 0.56912774\n",
      " 0.51168115 0.62425512 0.62667704 0.62930948 0.63273942 0.63623756\n",
      " 0.64062715 0.64482629 0.64922321 0.653741   0.65729481 0.65954411\n",
      " 0.66130042 0.66365308 0.66628945 0.67003274 0.67367846 0.67739248\n",
      " 0.6810329  0.68477148 0.68845683 0.69221914 0.69626695 0.69998986]\n",
      "23 day output [[0.7034438]]\n",
      "24 day input [0.5753638  0.60872673 0.58033316 0.60024958 0.56912774 0.51168115\n",
      " 0.62425512 0.62667704 0.62930948 0.63273942 0.63623756 0.64062715\n",
      " 0.64482629 0.64922321 0.653741   0.65729481 0.65954411 0.66130042\n",
      " 0.66365308 0.66628945 0.67003274 0.67367846 0.67739248 0.6810329\n",
      " 0.68477148 0.68845683 0.69221914 0.69626695 0.69998986 0.70344383]\n"
     ]
    },
    {
     "name": "stdout",
     "output_type": "stream",
     "text": [
      "24 day output [[0.7068462]]\n",
      "25 day input [0.60872673 0.58033316 0.60024958 0.56912774 0.51168115 0.62425512\n",
      " 0.62667704 0.62930948 0.63273942 0.63623756 0.64062715 0.64482629\n",
      " 0.64922321 0.653741   0.65729481 0.65954411 0.66130042 0.66365308\n",
      " 0.66628945 0.67003274 0.67367846 0.67739248 0.6810329  0.68477148\n",
      " 0.68845683 0.69221914 0.69626695 0.69998986 0.70344383 0.70684618]\n",
      "25 day output [[0.7099951]]\n",
      "26 day input [0.58033316 0.60024958 0.56912774 0.51168115 0.62425512 0.62667704\n",
      " 0.62930948 0.63273942 0.63623756 0.64062715 0.64482629 0.64922321\n",
      " 0.653741   0.65729481 0.65954411 0.66130042 0.66365308 0.66628945\n",
      " 0.67003274 0.67367846 0.67739248 0.6810329  0.68477148 0.68845683\n",
      " 0.69221914 0.69626695 0.69998986 0.70344383 0.70684618 0.70999509]\n",
      "26 day output [[0.7132987]]\n",
      "27 day input [0.60024958 0.56912774 0.51168115 0.62425512 0.62667704 0.62930948\n",
      " 0.63273942 0.63623756 0.64062715 0.64482629 0.64922321 0.653741\n",
      " 0.65729481 0.65954411 0.66130042 0.66365308 0.66628945 0.67003274\n",
      " 0.67367846 0.67739248 0.6810329  0.68477148 0.68845683 0.69221914\n",
      " 0.69626695 0.69998986 0.70344383 0.70684618 0.70999509 0.71329868]\n",
      "27 day output [[0.716362]]\n",
      "28 day input [0.56912774 0.51168115 0.62425512 0.62667704 0.62930948 0.63273942\n",
      " 0.63623756 0.64062715 0.64482629 0.64922321 0.653741   0.65729481\n",
      " 0.65954411 0.66130042 0.66365308 0.66628945 0.67003274 0.67367846\n",
      " 0.67739248 0.6810329  0.68477148 0.68845683 0.69221914 0.69626695\n",
      " 0.69998986 0.70344383 0.70684618 0.70999509 0.71329868 0.716362  ]\n",
      "28 day output [[0.7194864]]\n",
      "29 day input [0.51168115 0.62425512 0.62667704 0.62930948 0.63273942 0.63623756\n",
      " 0.64062715 0.64482629 0.64922321 0.653741   0.65729481 0.65954411\n",
      " 0.66130042 0.66365308 0.66628945 0.67003274 0.67367846 0.67739248\n",
      " 0.6810329  0.68477148 0.68845683 0.69221914 0.69626695 0.69998986\n",
      " 0.70344383 0.70684618 0.70999509 0.71329868 0.716362   0.71948642]\n",
      "29 day output [[0.7223565]]\n",
      "[[0.6242551207542419], [0.6266770362854004], [0.6293094754219055], [0.6327394247055054], [0.6362375617027283], [0.6406271457672119], [0.6448262929916382], [0.6492232084274292], [0.6537410020828247], [0.6572948098182678], [0.6595441102981567], [0.6613004207611084], [0.6636530756950378], [0.6662894487380981], [0.6700327396392822], [0.673678457736969], [0.6773924827575684], [0.6810328960418701], [0.6847714781761169], [0.6884568333625793], [0.6922191381454468], [0.6962669491767883], [0.6999898552894592], [0.7034438252449036], [0.7068461775779724], [0.7099950909614563], [0.7132986783981323], [0.7163619995117188], [0.7194864153862], [0.7223564982414246]]\n"
     ]
    }
   ],
   "source": [
    "# demonstrate prediction for next 30 days\n",
    "from numpy import array\n",
    "\n",
    "lst_output=[]\n",
    "n_steps=30\n",
    "i=0\n",
    "while(i<30):\n",
    "    \n",
    "    if(len(temp_input)>30):\n",
    "        #print(temp_input)\n",
    "        x_input=np.array(temp_input[1:])\n",
    "        print(\"{} day input {}\".format(i,x_input))\n",
    "        x_input=x_input.reshape(1,-1)\n",
    "        x_input = x_input.reshape((1, n_steps, 1))\n",
    "        #print(x_input)\n",
    "        yhat = model.predict(x_input, verbose=0)\n",
    "        print(\"{} day output {}\".format(i,yhat))\n",
    "        temp_input.extend(yhat[0].tolist())\n",
    "        temp_input=temp_input[1:]\n",
    "        #print(temp_input)\n",
    "        lst_output.extend(yhat.tolist())\n",
    "        i=i+1\n",
    "    else:\n",
    "        x_input = x_input.reshape((1, n_steps,1))\n",
    "        yhat = model.predict(x_input, verbose=0)\n",
    "        print(yhat[0])\n",
    "        temp_input.extend(yhat[0].tolist())\n",
    "        print(len(temp_input))\n",
    "        lst_output.extend(yhat.tolist())\n",
    "        i=i+1\n",
    "    \n",
    "\n",
    "print(lst_output)"
   ]
  },
  {
   "cell_type": "code",
   "execution_count": 41,
   "metadata": {},
   "outputs": [],
   "source": [
    "day_new=np.arange(1,31)\n",
    "day_pred=np.arange(31,61)"
   ]
  },
  {
   "cell_type": "code",
   "execution_count": 42,
   "metadata": {},
   "outputs": [
    {
     "data": {
      "text/plain": [
       "578"
      ]
     },
     "execution_count": 42,
     "metadata": {},
     "output_type": "execute_result"
    }
   ],
   "source": [
    "len(df1)"
   ]
  },
  {
   "cell_type": "code",
   "execution_count": 43,
   "metadata": {},
   "outputs": [
    {
     "data": {
      "text/plain": [
       "[<matplotlib.lines.Line2D at 0x7f2bd01eca90>]"
      ]
     },
     "execution_count": 43,
     "metadata": {},
     "output_type": "execute_result"
    },
    {
     "data": {
      "image/png": "[encoded data removed]",
      "text/plain": [
       "<Figure size 432x288 with 1 Axes>"
      ]
     },
     "metadata": {
      "needs_background": "light"
     },
     "output_type": "display_data"
    }
   ],
   "source": [
    "plt.plot(day_new,scaler.inverse_transform(df1[548:]))\n",
    "plt.plot(day_pred,scaler.inverse_transform(lst_output))"
   ]
  },
  {
   "cell_type": "code",
   "execution_count": 44,
   "metadata": {},
   "outputs": [
    {
     "data": {
      "text/plain": [
       "[<matplotlib.lines.Line2D at 0x7f2bd0115eb0>]"
      ]
     },
     "execution_count": 44,
     "metadata": {},
     "output_type": "execute_result"
    },
    {
     "data": {
      "image/png": "[encoded data removed]",
      "text/plain": [
       "<Figure size 432x288 with 1 Axes>"
      ]
     },
     "metadata": {
      "needs_background": "light"
     },
     "output_type": "display_data"
    }
   ],
   "source": [
    "df3=df1.tolist()\n",
    "df3.extend(lst_output)\n",
    "plt.plot(df3[500:])"
   ]
  },
  {
   "cell_type": "code",
   "execution_count": 45,
   "metadata": {},
   "outputs": [],
   "source": [
    "df3=scaler.inverse_transform(df3).tolist()"
   ]
  },
  {
   "cell_type": "code",
   "execution_count": 46,
   "metadata": {},
   "outputs": [
    {
     "data": {
      "text/plain": [
       "[<matplotlib.lines.Line2D at 0x7f2bd01b8130>]"
      ]
     },
     "execution_count": 46,
     "metadata": {},
     "output_type": "execute_result"
    },
    {
     "data": {
      "image/png": "[encoded data removed]",
      "text/plain": [
       "<Figure size 432x288 with 1 Axes>"
      ]
     },
     "metadata": {
      "needs_background": "light"
     },
     "output_type": "display_data"
    }
   ],
   "source": [
    "plt.plot(df3)"
   ]
  },
  {
   "cell_type": "code",
   "execution_count": null,
   "metadata": {},
   "outputs": [],
   "source": []
  }
 ],
 "metadata": {
  "kernelspec": {
   "display_name": "Python 3",
   "language": "python",
   "name": "python3"
  },
  "language_info": {
   "codemirror_mode": {
    "name": "ipython",
    "version": 3
   },
   "file_extension": ".py",
   "mimetype": "text/x-python",
   "name": "python",
   "nbconvert_exporter": "python",
   "pygments_lexer": "ipython3",
   "version": "3.8.5"
  }
 },
 "nbformat": 4,
 "nbformat_minor": 4
}
